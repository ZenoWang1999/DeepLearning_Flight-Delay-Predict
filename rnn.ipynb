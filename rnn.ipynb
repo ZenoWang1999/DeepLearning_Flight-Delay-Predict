{
 "cells": [
  {
   "cell_type": "code",
   "execution_count": 61,
   "metadata": {},
   "outputs": [],
   "source": [
    "import pandas as pd\n",
    "import matplotlib.pyplot as plt"
   ]
  },
  {
   "cell_type": "code",
   "execution_count": 62,
   "metadata": {},
   "outputs": [],
   "source": [
    "data_encoded_scaled = pd.read_csv('data/data_encoded_scaled.csv')\n",
    "data_cleaned = pd.read_csv('data/data_cleaned.csv')\n",
    "data_feature = data_cleaned.drop(columns=['TOTAL_DELAY', 'DEP_DEL15'])\n",
    "data_target = data_cleaned['DEP_DEL15']"
   ]
  },
  {
   "cell_type": "code",
   "execution_count": 63,
   "metadata": {},
   "outputs": [],
   "source": [
    "data_encoded_scaled = data_encoded_scaled.drop(columns=['RESIDUALS', 'DEP_DEL15'])"
   ]
  },
  {
   "cell_type": "code",
   "execution_count": 64,
   "metadata": {},
   "outputs": [
    {
     "name": "stdout",
     "output_type": "stream",
     "text": [
      "27.968432919954903\n"
     ]
    }
   ],
   "source": [
    "sequence_days = 7\n",
    "daily_counts = data_feature.groupby(['MONTH', 'DAY_OF_MONTH', 'DEPARTING_AIRPORT']).size() # 一天一个机场的航班数\n",
    "average_rows = daily_counts.mean()\n",
    "\n",
    "print(average_rows*sequence_days)"
   ]
  },
  {
   "cell_type": "code",
   "execution_count": 65,
   "metadata": {},
   "outputs": [],
   "source": [
    "data_full = data_encoded_scaled.assign(TARGET=data_target.values)"
   ]
  },
  {
   "cell_type": "code",
   "execution_count": 66,
   "metadata": {},
   "outputs": [
    {
     "name": "stdout",
     "output_type": "stream",
     "text": [
      "   MONTH  DAY_OF_MONTH  DAY_OF_WEEK  DEP_TIME_BLK  DISTANCE_GROUP  \\\n",
      "0    0.0           0.0     0.166667      0.166667        0.428571   \n",
      "1    0.0           0.0     0.166667      0.166667        0.428571   \n",
      "2    0.0           0.0     0.166667      0.166667        0.428571   \n",
      "3    0.0           0.0     0.166667      0.166667        0.428571   \n",
      "4    0.0           0.0     0.166667      0.166667        0.285714   \n",
      "\n",
      "   SEGMENT_NUMBER  CONCURRENT_FLIGHTS  NUMBER_OF_SEATS  AIRPORT_FLIGHTS_MONTH  \\\n",
      "0           0.000            0.098592              1.0               0.115453   \n",
      "1           0.000            0.098592              1.0               0.115453   \n",
      "2           0.000            0.112676              1.0               0.111384   \n",
      "3           0.000            0.267606              1.0               0.333661   \n",
      "4           0.125            0.042254              1.0               0.028528   \n",
      "\n",
      "   AIRLINE_FLIGHTS_MONTH  ...  PREVIOUS_AIRPORT_3  PREVIOUS_AIRPORT_4  \\\n",
      "0               0.183515  ...                 0.0                 0.0   \n",
      "1               0.183515  ...                 0.0                 0.0   \n",
      "2               0.183515  ...                 0.0                 0.0   \n",
      "3               0.183515  ...                 0.0                 0.0   \n",
      "4               0.183515  ...                 0.0                 0.0   \n",
      "\n",
      "   PREVIOUS_AIRPORT_5  PREVIOUS_AIRPORT_6  PRCP  SNOW  SNWD      TMAX  \\\n",
      "0                 0.0                 1.0   0.0   0.0   0.0  0.353982   \n",
      "1                 0.0                 1.0   0.0   0.0   0.0  0.353982   \n",
      "2                 0.0                 1.0   0.0   0.0   0.0  0.451327   \n",
      "3                 0.0                 1.0   0.0   0.0   0.0  0.699115   \n",
      "4                 1.0                 0.0   0.0   0.0   0.0  0.460177   \n",
      "\n",
      "       AWND  TARGET  \n",
      "0  0.198638       0  \n",
      "1  0.198638       0  \n",
      "2  0.172291       0  \n",
      "3  0.370930       0  \n",
      "4  0.178804       0  \n",
      "\n",
      "[5 rows x 33 columns]\n"
     ]
    }
   ],
   "source": [
    "print(data_full.head())"
   ]
  },
  {
   "cell_type": "code",
   "execution_count": 67,
   "metadata": {},
   "outputs": [
    {
     "name": "stdout",
     "output_type": "stream",
     "text": [
      "Input sequences shape: (41100, 28, 32)\n",
      "Target values shape: (41100,)\n"
     ]
    }
   ],
   "source": [
    "import numpy as np\n",
    "\n",
    "sequence_length = int(round(average_rows*sequence_days))\n",
    "\n",
    "unique_dep_airport = data_feature['DEPARTING_AIRPORT'].unique()\n",
    "unique_flight_number = data_feature['FLIGHT_NUMBER'].unique()\n",
    "\n",
    "X_sequences = []\n",
    "y_targets = []\n",
    "\n",
    "for dep_airport in unique_dep_airport:\n",
    "    flight_data = data_full[data_feature['DEPARTING_AIRPORT'] == dep_airport]\n",
    "    flight_data_values = flight_data.iloc[:, :-1].values\n",
    "    flight_data_target = flight_data.iloc[:, -1].values\n",
    "    for i in range(len(flight_data) - sequence_length):\n",
    "        X_sequences.append(flight_data_values[i:i+sequence_length])\n",
    "        y_targets.append(flight_data_target[i+sequence_length])\n",
    "\n",
    "X_sequences = np.array(X_sequences)\n",
    "y_targets = np.array(y_targets)\n",
    "\n",
    "print(\"Input sequences shape:\", X_sequences.shape)\n",
    "print(\"Target values shape:\", y_targets.shape)"
   ]
  },
  {
   "cell_type": "code",
   "execution_count": 68,
   "metadata": {},
   "outputs": [],
   "source": [
    "from sklearn.model_selection import train_test_split\n",
    "\n",
    "data = list(zip(X_sequences, y_targets))\n",
    "\n",
    "# Shuffle the data\n",
    "np.random.shuffle(data)\n",
    "\n",
    "# Split the data into training and test sets\n",
    "train_data, test_data = train_test_split(data, test_size=0.2)\n",
    "\n",
    "# Separate the sequences and targets\n",
    "X_train, y_train = zip(*train_data)\n",
    "X_test, y_test = zip(*test_data)\n",
    "\n",
    "# Convert the results back to numpy arrays\n",
    "X_train = np.array(X_train)\n",
    "y_train = np.array(y_train)\n",
    "X_test = np.array(X_test)\n",
    "y_test = np.array(y_test)"
   ]
  },
  {
   "cell_type": "code",
   "execution_count": 69,
   "metadata": {},
   "outputs": [],
   "source": [
    "from tensorflow.compat.v1.keras.models import Sequential\n",
    "from tensorflow.compat.v1.keras.layers import SimpleRNN, Dense\n",
    "from tensorflow.keras.metrics import Recall\n",
    "from keras import regularizers\n",
    "from keras.callbacks import EarlyStopping, ModelCheckpoint\n",
    "from keras.models import load_model\n",
    "from sklearn.utils.class_weight import compute_class_weight\n",
    "from keras.optimizers import Adam\n",
    "import numpy as np\n",
    "\n",
    "timesteps = X_train.shape[1]\n",
    "input_dim = X_train.shape[2]\n",
    "\n",
    "weights = compute_class_weight(class_weight = 'balanced', classes = np.unique(y_train) , y = y_train)\n",
    "class_weights = dict(zip(np.unique(y_train), weights))"
   ]
  },
  {
   "cell_type": "code",
   "execution_count": 70,
   "metadata": {},
   "outputs": [
    {
     "name": "stdout",
     "output_type": "stream",
     "text": [
      "Epoch 1/300\n",
      "810/822 [============================>.] - ETA: 0s - loss: 1.3429 - accuracy: 0.4755 - recall_3: 0.5380\n",
      "Epoch 1: val_loss improved from inf to 1.22907, saving model to model\\best_model_rnn.h5\n",
      "822/822 [==============================] - 4s 3ms/step - loss: 1.3414 - accuracy: 0.4760 - recall_3: 0.5388 - val_loss: 1.2291 - val_accuracy: 0.5503 - val_recall_3: 0.5209\n",
      "Epoch 2/300\n",
      " 53/822 [>.............................] - ETA: 2s - loss: 1.2775 - accuracy: 0.4941 - recall_3: 0.5401"
     ]
    },
    {
     "name": "stderr",
     "output_type": "stream",
     "text": [
      "e:\\Semester 3\\Deep Learning\\flight_delay\\venv\\lib\\site-packages\\keras\\src\\engine\\training.py:3103: UserWarning: You are saving your model as an HDF5 file via `model.save()`. This file format is considered legacy. We recommend using instead the native Keras format, e.g. `model.save('my_model.keras')`.\n",
      "  saving_api.save_model(\n"
     ]
    },
    {
     "name": "stdout",
     "output_type": "stream",
     "text": [
      "816/822 [============================>.] - ETA: 0s - loss: 1.2122 - accuracy: 0.5116 - recall_3: 0.5271\n",
      "Epoch 2: val_loss improved from 1.22907 to 1.11313, saving model to model\\best_model_rnn.h5\n",
      "822/822 [==============================] - 3s 3ms/step - loss: 1.2117 - accuracy: 0.5120 - recall_3: 0.5272 - val_loss: 1.1131 - val_accuracy: 0.6248 - val_recall_3: 0.4567\n",
      "Epoch 3/300\n",
      "805/822 [============================>.] - ETA: 0s - loss: 1.1155 - accuracy: 0.5220 - recall_3: 0.5173\n",
      "Epoch 3: val_loss improved from 1.11313 to 1.05356, saving model to model\\best_model_rnn.h5\n",
      "822/822 [==============================] - 3s 3ms/step - loss: 1.1147 - accuracy: 0.5222 - recall_3: 0.5187 - val_loss: 1.0536 - val_accuracy: 0.5540 - val_recall_3: 0.5995\n",
      "Epoch 4/300\n",
      "817/822 [============================>.] - ETA: 0s - loss: 1.0298 - accuracy: 0.5312 - recall_3: 0.5303\n",
      "Epoch 4: val_loss improved from 1.05356 to 0.98773, saving model to model\\best_model_rnn.h5\n",
      "822/822 [==============================] - 3s 3ms/step - loss: 1.0300 - accuracy: 0.5311 - recall_3: 0.5302 - val_loss: 0.9877 - val_accuracy: 0.5366 - val_recall_3: 0.6469\n",
      "Epoch 5/300\n",
      "815/822 [============================>.] - ETA: 0s - loss: 0.9598 - accuracy: 0.5300 - recall_3: 0.5624\n",
      "Epoch 5: val_loss improved from 0.98773 to 0.92597, saving model to model\\best_model_rnn.h5\n",
      "822/822 [==============================] - 3s 3ms/step - loss: 0.9595 - accuracy: 0.5301 - recall_3: 0.5650 - val_loss: 0.9260 - val_accuracy: 0.5274 - val_recall_3: 0.6637\n",
      "Epoch 6/300\n",
      "813/822 [============================>.] - ETA: 0s - loss: 0.8997 - accuracy: 0.5313 - recall_3: 0.5775\n",
      "Epoch 6: val_loss improved from 0.92597 to 0.85699, saving model to model\\best_model_rnn.h5\n",
      "822/822 [==============================] - 3s 3ms/step - loss: 0.8985 - accuracy: 0.5317 - recall_3: 0.5779 - val_loss: 0.8570 - val_accuracy: 0.5824 - val_recall_3: 0.5947\n",
      "Epoch 7/300\n",
      "821/822 [============================>.] - ETA: 0s - loss: 0.8486 - accuracy: 0.5448 - recall_3: 0.5721\n",
      "Epoch 7: val_loss improved from 0.85699 to 0.82554, saving model to model\\best_model_rnn.h5\n",
      "822/822 [==============================] - 3s 3ms/step - loss: 0.8485 - accuracy: 0.5450 - recall_3: 0.5721 - val_loss: 0.8255 - val_accuracy: 0.5344 - val_recall_3: 0.6629\n",
      "Epoch 8/300\n",
      "811/822 [============================>.] - ETA: 0s - loss: 0.8084 - accuracy: 0.5373 - recall_3: 0.5904\n",
      "Epoch 8: val_loss improved from 0.82554 to 0.77988, saving model to model\\best_model_rnn.h5\n",
      "822/822 [==============================] - 3s 3ms/step - loss: 0.8084 - accuracy: 0.5377 - recall_3: 0.5886 - val_loss: 0.7799 - val_accuracy: 0.5725 - val_recall_3: 0.6059\n",
      "Epoch 9/300\n",
      "812/822 [============================>.] - ETA: 0s - loss: 0.7774 - accuracy: 0.5423 - recall_3: 0.5977\n",
      "Epoch 9: val_loss improved from 0.77988 to 0.75301, saving model to model\\best_model_rnn.h5\n",
      "822/822 [==============================] - 3s 3ms/step - loss: 0.7767 - accuracy: 0.5423 - recall_3: 0.5986 - val_loss: 0.7530 - val_accuracy: 0.5745 - val_recall_3: 0.6116\n",
      "Epoch 10/300\n",
      "808/822 [============================>.] - ETA: 0s - loss: 0.7543 - accuracy: 0.5523 - recall_3: 0.5756\n",
      "Epoch 10: val_loss did not improve from 0.75301\n",
      "822/822 [==============================] - 3s 3ms/step - loss: 0.7535 - accuracy: 0.5511 - recall_3: 0.5785 - val_loss: 0.7668 - val_accuracy: 0.4735 - val_recall_3: 0.7665\n",
      "Epoch 11/300\n",
      "805/822 [============================>.] - ETA: 0s - loss: 0.7359 - accuracy: 0.5491 - recall_3: 0.5841\n",
      "Epoch 11: val_loss improved from 0.75301 to 0.74416, saving model to model\\best_model_rnn.h5\n",
      "822/822 [==============================] - 3s 3ms/step - loss: 0.7356 - accuracy: 0.5479 - recall_3: 0.5862 - val_loss: 0.7442 - val_accuracy: 0.4965 - val_recall_3: 0.7392\n",
      "Epoch 12/300\n",
      "811/822 [============================>.] - ETA: 0s - loss: 0.7237 - accuracy: 0.5363 - recall_3: 0.6011\n",
      "Epoch 12: val_loss improved from 0.74416 to 0.70780, saving model to model\\best_model_rnn.h5\n",
      "822/822 [==============================] - 3s 3ms/step - loss: 0.7232 - accuracy: 0.5370 - recall_3: 0.6008 - val_loss: 0.7078 - val_accuracy: 0.5690 - val_recall_3: 0.6059\n",
      "Epoch 13/300\n",
      "811/822 [============================>.] - ETA: 0s - loss: 0.7136 - accuracy: 0.5460 - recall_3: 0.5907\n",
      "Epoch 13: val_loss improved from 0.70780 to 0.70418, saving model to model\\best_model_rnn.h5\n",
      "822/822 [==============================] - 3s 3ms/step - loss: 0.7137 - accuracy: 0.5465 - recall_3: 0.5902 - val_loss: 0.7042 - val_accuracy: 0.5596 - val_recall_3: 0.6196\n",
      "Epoch 14/300\n",
      "811/822 [============================>.] - ETA: 0s - loss: 0.7077 - accuracy: 0.5509 - recall_3: 0.5828\n",
      "Epoch 14: val_loss did not improve from 0.70418\n",
      "822/822 [==============================] - 3s 3ms/step - loss: 0.7080 - accuracy: 0.5495 - recall_3: 0.5833 - val_loss: 0.7267 - val_accuracy: 0.4786 - val_recall_3: 0.7648\n",
      "Epoch 15/300\n",
      "810/822 [============================>.] - ETA: 0s - loss: 0.7040 - accuracy: 0.5356 - recall_3: 0.5913\n",
      "Epoch 15: val_loss improved from 0.70418 to 0.68865, saving model to model\\best_model_rnn.h5\n",
      "822/822 [==============================] - 3s 3ms/step - loss: 0.7041 - accuracy: 0.5363 - recall_3: 0.5914 - val_loss: 0.6887 - val_accuracy: 0.5710 - val_recall_3: 0.6027\n",
      "Epoch 16/300\n",
      "822/822 [==============================] - ETA: 0s - loss: 0.7002 - accuracy: 0.5410 - recall_3: 0.5868\n",
      "Epoch 16: val_loss did not improve from 0.68865\n",
      "822/822 [==============================] - 3s 3ms/step - loss: 0.7002 - accuracy: 0.5410 - recall_3: 0.5868 - val_loss: 0.6900 - val_accuracy: 0.5587 - val_recall_3: 0.6340\n",
      "Epoch 17/300\n",
      "811/822 [============================>.] - ETA: 0s - loss: 0.6960 - accuracy: 0.5460 - recall_3: 0.5889\n",
      "Epoch 17: val_loss did not improve from 0.68865\n",
      "822/822 [==============================] - 3s 3ms/step - loss: 0.6961 - accuracy: 0.5451 - recall_3: 0.5902 - val_loss: 0.7043 - val_accuracy: 0.5148 - val_recall_3: 0.7103\n",
      "Epoch 18/300\n",
      "816/822 [============================>.] - ETA: 0s - loss: 0.6948 - accuracy: 0.5430 - recall_3: 0.5973\n",
      "Epoch 18: val_loss improved from 0.68865 to 0.67808, saving model to model\\best_model_rnn.h5\n",
      "822/822 [==============================] - 3s 3ms/step - loss: 0.6947 - accuracy: 0.5436 - recall_3: 0.5974 - val_loss: 0.6781 - val_accuracy: 0.5880 - val_recall_3: 0.5690\n",
      "Epoch 19/300\n",
      "816/822 [============================>.] - ETA: 0s - loss: 0.6920 - accuracy: 0.5429 - recall_3: 0.6076\n",
      "Epoch 19: val_loss did not improve from 0.67808\n",
      "822/822 [==============================] - 3s 3ms/step - loss: 0.6918 - accuracy: 0.5431 - recall_3: 0.6067 - val_loss: 0.6794 - val_accuracy: 0.5738 - val_recall_3: 0.5955\n",
      "Epoch 20/300\n",
      "822/822 [==============================] - ETA: 0s - loss: 0.6908 - accuracy: 0.5456 - recall_3: 0.5831\n",
      "Epoch 20: val_loss did not improve from 0.67808\n",
      "822/822 [==============================] - 3s 3ms/step - loss: 0.6908 - accuracy: 0.5456 - recall_3: 0.5831 - val_loss: 0.7147 - val_accuracy: 0.4691 - val_recall_3: 0.7729\n",
      "Epoch 21/300\n",
      "822/822 [==============================] - ETA: 0s - loss: 0.6896 - accuracy: 0.5457 - recall_3: 0.5964\n",
      "Epoch 21: val_loss did not improve from 0.67808\n",
      "822/822 [==============================] - 3s 3ms/step - loss: 0.6896 - accuracy: 0.5457 - recall_3: 0.5964 - val_loss: 0.6891 - val_accuracy: 0.5421 - val_recall_3: 0.6573\n",
      "Epoch 22/300\n",
      "817/822 [============================>.] - ETA: 0s - loss: 0.6898 - accuracy: 0.5482 - recall_3: 0.5889\n",
      "Epoch 22: val_loss did not improve from 0.67808\n",
      "822/822 [==============================] - 3s 3ms/step - loss: 0.6903 - accuracy: 0.5481 - recall_3: 0.5888 - val_loss: 0.6979 - val_accuracy: 0.5175 - val_recall_3: 0.7039\n",
      "Epoch 23/300\n",
      "804/822 [============================>.] - ETA: 0s - loss: 0.6889 - accuracy: 0.5476 - recall_3: 0.5863\n",
      "Epoch 23: val_loss did not improve from 0.67808\n",
      "822/822 [==============================] - 3s 3ms/step - loss: 0.6890 - accuracy: 0.5469 - recall_3: 0.5890 - val_loss: 0.6951 - val_accuracy: 0.5182 - val_recall_3: 0.7079\n",
      "Epoch 24/300\n",
      "815/822 [============================>.] - ETA: 0s - loss: 0.6876 - accuracy: 0.5424 - recall_3: 0.6059\n",
      "Epoch 24: val_loss improved from 0.67808 to 0.66871, saving model to model\\best_model_rnn.h5\n",
      "822/822 [==============================] - 3s 3ms/step - loss: 0.6872 - accuracy: 0.5425 - recall_3: 0.6059 - val_loss: 0.6687 - val_accuracy: 0.5944 - val_recall_3: 0.5690\n",
      "Epoch 25/300\n",
      "806/822 [============================>.] - ETA: 0s - loss: 0.6866 - accuracy: 0.5540 - recall_3: 0.5809\n",
      "Epoch 25: val_loss did not improve from 0.66871\n",
      "822/822 [==============================] - 3s 3ms/step - loss: 0.6867 - accuracy: 0.5528 - recall_3: 0.5815 - val_loss: 0.6967 - val_accuracy: 0.5131 - val_recall_3: 0.7103\n",
      "Epoch 26/300\n",
      "813/822 [============================>.] - ETA: 0s - loss: 0.6862 - accuracy: 0.5389 - recall_3: 0.6043\n",
      "Epoch 26: val_loss did not improve from 0.66871\n",
      "822/822 [==============================] - 3s 3ms/step - loss: 0.6865 - accuracy: 0.5397 - recall_3: 0.6029 - val_loss: 0.6748 - val_accuracy: 0.5759 - val_recall_3: 0.6035\n",
      "Epoch 27/300\n",
      "806/822 [============================>.] - ETA: 0s - loss: 0.6868 - accuracy: 0.5529 - recall_3: 0.5882\n",
      "Epoch 27: val_loss did not improve from 0.66871\n",
      "822/822 [==============================] - 3s 3ms/step - loss: 0.6865 - accuracy: 0.5514 - recall_3: 0.5914 - val_loss: 0.6996 - val_accuracy: 0.5021 - val_recall_3: 0.7287\n",
      "Epoch 28/300\n",
      "813/822 [============================>.] - ETA: 0s - loss: 0.6870 - accuracy: 0.5480 - recall_3: 0.5882\n",
      "Epoch 28: val_loss did not improve from 0.66871\n",
      "822/822 [==============================] - 3s 3ms/step - loss: 0.6866 - accuracy: 0.5482 - recall_3: 0.5884 - val_loss: 0.6776 - val_accuracy: 0.5669 - val_recall_3: 0.6188\n",
      "Epoch 29/300\n",
      "820/822 [============================>.] - ETA: 0s - loss: 0.6846 - accuracy: 0.5429 - recall_3: 0.5988\n",
      "Epoch 29: val_loss improved from 0.66871 to 0.65477, saving model to model\\best_model_rnn.h5\n",
      "822/822 [==============================] - 3s 3ms/step - loss: 0.6845 - accuracy: 0.5433 - recall_3: 0.5984 - val_loss: 0.6548 - val_accuracy: 0.6396 - val_recall_3: 0.4848\n",
      "Epoch 30/300\n",
      "808/822 [============================>.] - ETA: 0s - loss: 0.6863 - accuracy: 0.5569 - recall_3: 0.5782\n",
      "Epoch 30: val_loss did not improve from 0.65477\n",
      "822/822 [==============================] - 3s 3ms/step - loss: 0.6860 - accuracy: 0.5569 - recall_3: 0.5779 - val_loss: 0.6737 - val_accuracy: 0.5774 - val_recall_3: 0.5955\n",
      "Epoch 31/300\n",
      "808/822 [============================>.] - ETA: 0s - loss: 0.6856 - accuracy: 0.5470 - recall_3: 0.5872\n",
      "Epoch 31: val_loss did not improve from 0.65477\n",
      "822/822 [==============================] - 3s 3ms/step - loss: 0.6850 - accuracy: 0.5468 - recall_3: 0.5876 - val_loss: 0.6720 - val_accuracy: 0.5850 - val_recall_3: 0.5762\n",
      "Epoch 32/300\n",
      "806/822 [============================>.] - ETA: 0s - loss: 0.6840 - accuracy: 0.5496 - recall_3: 0.5911\n",
      "Epoch 32: val_loss did not improve from 0.65477\n",
      "822/822 [==============================] - 3s 3ms/step - loss: 0.6840 - accuracy: 0.5498 - recall_3: 0.5898 - val_loss: 0.6759 - val_accuracy: 0.5751 - val_recall_3: 0.5979\n",
      "Epoch 33/300\n",
      "812/822 [============================>.] - ETA: 0s - loss: 0.6842 - accuracy: 0.5564 - recall_3: 0.5870\n",
      "Epoch 33: val_loss did not improve from 0.65477\n",
      "822/822 [==============================] - 3s 3ms/step - loss: 0.6841 - accuracy: 0.5558 - recall_3: 0.5870 - val_loss: 0.6817 - val_accuracy: 0.5522 - val_recall_3: 0.6324\n",
      "Epoch 34/300\n",
      "810/822 [============================>.] - ETA: 0s - loss: 0.6859 - accuracy: 0.5493 - recall_3: 0.5829\n",
      "Epoch 34: val_loss did not improve from 0.65477\n",
      "822/822 [==============================] - 3s 3ms/step - loss: 0.6856 - accuracy: 0.5485 - recall_3: 0.5841 - val_loss: 0.6877 - val_accuracy: 0.5344 - val_recall_3: 0.6742\n",
      "Epoch 35/300\n",
      "803/822 [============================>.] - ETA: 0s - loss: 0.6853 - accuracy: 0.5486 - recall_3: 0.5893\n",
      "Epoch 35: val_loss did not improve from 0.65477\n",
      "822/822 [==============================] - 3s 3ms/step - loss: 0.6848 - accuracy: 0.5492 - recall_3: 0.5904 - val_loss: 0.6773 - val_accuracy: 0.5684 - val_recall_3: 0.6228\n",
      "Epoch 36/300\n",
      "817/822 [============================>.] - ETA: 0s - loss: 0.6836 - accuracy: 0.5530 - recall_3: 0.5844\n",
      "Epoch 36: val_loss did not improve from 0.65477\n",
      "822/822 [==============================] - 3s 3ms/step - loss: 0.6834 - accuracy: 0.5528 - recall_3: 0.5845 - val_loss: 0.6943 - val_accuracy: 0.5116 - val_recall_3: 0.7047\n",
      "Epoch 37/300\n",
      "820/822 [============================>.] - ETA: 0s - loss: 0.6857 - accuracy: 0.5395 - recall_3: 0.5875\n",
      "Epoch 37: val_loss did not improve from 0.65477\n",
      "822/822 [==============================] - 3s 3ms/step - loss: 0.6856 - accuracy: 0.5397 - recall_3: 0.5874 - val_loss: 0.6779 - val_accuracy: 0.5617 - val_recall_3: 0.6388\n",
      "Epoch 38/300\n",
      "821/822 [============================>.] - ETA: 0s - loss: 0.6843 - accuracy: 0.5397 - recall_3: 0.6019\n",
      "Epoch 38: val_loss did not improve from 0.65477\n",
      "822/822 [==============================] - 3s 3ms/step - loss: 0.6844 - accuracy: 0.5398 - recall_3: 0.6023 - val_loss: 0.6610 - val_accuracy: 0.6081 - val_recall_3: 0.5377\n",
      "Epoch 39/300\n",
      "822/822 [==============================] - ETA: 0s - loss: 0.6840 - accuracy: 0.5472 - recall_3: 0.5805\n",
      "Epoch 39: val_loss did not improve from 0.65477\n",
      "822/822 [==============================] - 2s 3ms/step - loss: 0.6840 - accuracy: 0.5472 - recall_3: 0.5805 - val_loss: 0.6677 - val_accuracy: 0.5861 - val_recall_3: 0.5875\n",
      "Epoch 40/300\n",
      "820/822 [============================>.] - ETA: 0s - loss: 0.6835 - accuracy: 0.5521 - recall_3: 0.5861\n",
      "Epoch 40: val_loss did not improve from 0.65477\n",
      "822/822 [==============================] - 2s 3ms/step - loss: 0.6836 - accuracy: 0.5520 - recall_3: 0.5860 - val_loss: 0.6919 - val_accuracy: 0.5128 - val_recall_3: 0.7030\n",
      "Epoch 41/300\n",
      "809/822 [============================>.] - ETA: 0s - loss: 0.6840 - accuracy: 0.5439 - recall_3: 0.5916\n",
      "Epoch 41: val_loss did not improve from 0.65477\n",
      "822/822 [==============================] - 3s 3ms/step - loss: 0.6839 - accuracy: 0.5443 - recall_3: 0.5906 - val_loss: 0.6594 - val_accuracy: 0.6223 - val_recall_3: 0.5305\n",
      "Epoch 42/300\n",
      "809/822 [============================>.] - ETA: 0s - loss: 0.6840 - accuracy: 0.5455 - recall_3: 0.5853\n",
      "Epoch 42: val_loss did not improve from 0.65477\n",
      "822/822 [==============================] - 3s 3ms/step - loss: 0.6842 - accuracy: 0.5460 - recall_3: 0.5841 - val_loss: 0.6668 - val_accuracy: 0.5943 - val_recall_3: 0.5730\n",
      "Epoch 43/300\n",
      "815/822 [============================>.] - ETA: 0s - loss: 0.6832 - accuracy: 0.5557 - recall_3: 0.5851\n",
      "Epoch 43: val_loss did not improve from 0.65477\n",
      "822/822 [==============================] - 2s 3ms/step - loss: 0.6833 - accuracy: 0.5559 - recall_3: 0.5853 - val_loss: 0.6762 - val_accuracy: 0.5602 - val_recall_3: 0.6300\n",
      "Epoch 44/300\n",
      "806/822 [============================>.] - ETA: 0s - loss: 0.6815 - accuracy: 0.5530 - recall_3: 0.5951\n",
      "Epoch 44: val_loss did not improve from 0.65477\n",
      "822/822 [==============================] - 2s 3ms/step - loss: 0.6823 - accuracy: 0.5521 - recall_3: 0.5948 - val_loss: 0.6806 - val_accuracy: 0.5546 - val_recall_3: 0.6453\n",
      "Epoch 45/300\n",
      "807/822 [============================>.] - ETA: 0s - loss: 0.6838 - accuracy: 0.5469 - recall_3: 0.5927\n",
      "Epoch 45: val_loss did not improve from 0.65477\n",
      "822/822 [==============================] - 3s 3ms/step - loss: 0.6837 - accuracy: 0.5468 - recall_3: 0.5912 - val_loss: 0.6719 - val_accuracy: 0.5801 - val_recall_3: 0.5955\n",
      "Epoch 46/300\n",
      "814/822 [============================>.] - ETA: 0s - loss: 0.6827 - accuracy: 0.5486 - recall_3: 0.5856\n",
      "Epoch 46: val_loss did not improve from 0.65477\n",
      "822/822 [==============================] - 2s 3ms/step - loss: 0.6831 - accuracy: 0.5490 - recall_3: 0.5841 - val_loss: 0.6704 - val_accuracy: 0.5847 - val_recall_3: 0.5923\n",
      "Epoch 47/300\n",
      "811/822 [============================>.] - ETA: 0s - loss: 0.6846 - accuracy: 0.5514 - recall_3: 0.5761\n",
      "Epoch 47: val_loss did not improve from 0.65477\n",
      "822/822 [==============================] - 3s 3ms/step - loss: 0.6840 - accuracy: 0.5504 - recall_3: 0.5771 - val_loss: 0.6999 - val_accuracy: 0.4903 - val_recall_3: 0.7432\n",
      "Epoch 48/300\n",
      "819/822 [============================>.] - ETA: 0s - loss: 0.6833 - accuracy: 0.5460 - recall_3: 0.5963\n",
      "Epoch 48: val_loss did not improve from 0.65477\n",
      "822/822 [==============================] - 2s 3ms/step - loss: 0.6833 - accuracy: 0.5461 - recall_3: 0.5966 - val_loss: 0.6773 - val_accuracy: 0.5627 - val_recall_3: 0.6300\n",
      "Epoch 49/300\n",
      "804/822 [============================>.] - ETA: 0s - loss: 0.6827 - accuracy: 0.5490 - recall_3: 0.5940\n",
      "Epoch 49: val_loss did not improve from 0.65477\n",
      "822/822 [==============================] - 3s 3ms/step - loss: 0.6826 - accuracy: 0.5496 - recall_3: 0.5950 - val_loss: 0.6873 - val_accuracy: 0.5286 - val_recall_3: 0.6854\n"
     ]
    },
    {
     "data": {
      "text/plain": [
       "<keras.src.callbacks.History at 0x2428da5e0a0>"
      ]
     },
     "execution_count": 70,
     "metadata": {},
     "output_type": "execute_result"
    }
   ],
   "source": [
    "# Define the RNN model\n",
    "\n",
    "model = Sequential()\n",
    "\n",
    "model.add(SimpleRNN(32, input_shape=(timesteps, input_dim),\n",
    "                    kernel_regularizer=regularizers.l2(0.01),\n",
    "                    recurrent_regularizer=regularizers.l2(0.01),\n",
    "                    bias_regularizer=regularizers.l2(0.01),\n",
    "                     dropout=0.4, recurrent_dropout=0.4))\n",
    "model.add(Dense(1, activation='sigmoid'))\n",
    "\n",
    "opt = Adam(learning_rate=0.0001)\n",
    "\n",
    "# Compile the model\n",
    "model.compile(loss='binary_crossentropy', optimizer=opt, metrics=['accuracy', Recall()])\n",
    "\n",
    "\n",
    "# Define early stopping\n",
    "early_stopping = EarlyStopping(monitor='val_loss', patience=20)\n",
    "\n",
    "checkpoint = ModelCheckpoint('model/best_model_rnn.h5', monitor='val_loss', verbose=1, save_best_only=True, mode='min')\n",
    "\n",
    "# Train the model\n",
    "model.fit(X_train, y_train, epochs=300, batch_size=32, validation_split=0.2, callbacks=[early_stopping, checkpoint], class_weight=class_weights)"
   ]
  },
  {
   "cell_type": "code",
   "execution_count": 71,
   "metadata": {},
   "outputs": [
    {
     "name": "stdout",
     "output_type": "stream",
     "text": [
      "257/257 [==============================] - 0s 1ms/step\n",
      "      Prediction  Actual\n",
      "0       0.494957       0\n",
      "1       0.407993       0\n",
      "2       0.582953       0\n",
      "3       0.579393       0\n",
      "4       0.486182       1\n",
      "...          ...     ...\n",
      "8215    0.477967       0\n",
      "8216    0.460715       0\n",
      "8217    0.330314       0\n",
      "8218    0.523494       0\n",
      "8219    0.449205       0\n",
      "\n",
      "[8220 rows x 2 columns]\n"
     ]
    }
   ],
   "source": [
    "# Make predictions using the model\n",
    "best_model = load_model('model/best_model_rnn.h5')\n",
    "\n",
    "predictions = best_model.predict(X_test)\n",
    "\n",
    "# Compare the predictions with the actual values\n",
    "comparison = pd.DataFrame({'Prediction': predictions.flatten(), 'Actual': y_test})\n",
    "\n",
    "# Print the comparison\n",
    "print(comparison)\n",
    "predictions_labels = [1 if p > 0.5 else 0 for p in predictions.flatten()]"
   ]
  },
  {
   "cell_type": "code",
   "execution_count": 72,
   "metadata": {},
   "outputs": [
    {
     "data": {
      "image/png": "[encoded data removed]",
      "text/plain": [
       "<Figure size 1000x700 with 2 Axes>"
      ]
     },
     "metadata": {},
     "output_type": "display_data"
    }
   ],
   "source": [
    "from sklearn.metrics import confusion_matrix, classification_report\n",
    "import seaborn as sns\n",
    "\n",
    "cm = confusion_matrix(y_test, predictions_labels)\n",
    "plt.figure(figsize=(10, 7))\n",
    "sns.heatmap(cm, annot=True, fmt='d')\n",
    "plt.xlabel('Predicted')\n",
    "plt.ylabel('Truth')\n",
    "plt.show()"
   ]
  },
  {
   "cell_type": "code",
   "execution_count": 73,
   "metadata": {},
   "outputs": [
    {
     "name": "stdout",
     "output_type": "stream",
     "text": [
      "              precision    recall  f1-score   support\n",
      "\n",
      "           0       0.85      0.67      0.75      6715\n",
      "           1       0.24      0.46      0.32      1505\n",
      "\n",
      "    accuracy                           0.63      8220\n",
      "   macro avg       0.54      0.57      0.53      8220\n",
      "weighted avg       0.74      0.63      0.67      8220\n",
      "\n"
     ]
    }
   ],
   "source": [
    "report = classification_report(y_test, predictions_labels, output_dict=True)\n",
    "print(classification_report(y_test, predictions_labels))\n",
    "df = pd.DataFrame(report).transpose()\n",
    "df.to_csv('result/rnn.csv')"
   ]
  }
 ],
 "metadata": {
  "kernelspec": {
   "display_name": "venv",
   "language": "python",
   "name": "python3"
  },
  "language_info": {
   "codemirror_mode": {
    "name": "ipython",
    "version": 3
   },
   "file_extension": ".py",
   "mimetype": "text/x-python",
   "name": "python",
   "nbconvert_exporter": "python",
   "pygments_lexer": "ipython3",
   "version": "3.9.6"
  }
 },
 "nbformat": 4,
 "nbformat_minor": 2
}
