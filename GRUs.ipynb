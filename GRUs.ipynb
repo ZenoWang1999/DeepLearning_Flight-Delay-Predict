{
 "cells": [
  {
   "cell_type": "code",
   "execution_count": 1,
   "metadata": {},
   "outputs": [],
   "source": [
    "import pandas as pd\n",
    "import matplotlib.pyplot as plt"
   ]
  },
  {
   "cell_type": "code",
   "execution_count": 2,
   "metadata": {},
   "outputs": [],
   "source": [
    "data_encoded_scaled = pd.read_csv('data/data_encoded_scaled.csv')\n",
    "data_cleaned = pd.read_csv('data/data_cleaned.csv')\n",
    "data_feature = data_cleaned.drop(columns=['TOTAL_DELAY', 'DEP_DEL15'])\n",
    "data_target = data_cleaned['DEP_DEL15']"
   ]
  },
  {
   "cell_type": "code",
   "execution_count": 3,
   "metadata": {},
   "outputs": [],
   "source": [
    "data_encoded_scaled = data_encoded_scaled.drop(columns=['RESIDUALS', 'DEP_DEL15'])"
   ]
  },
  {
   "cell_type": "code",
   "execution_count": 4,
   "metadata": {},
   "outputs": [
    {
     "name": "stdout",
     "output_type": "stream",
     "text": [
      "27.968432919954903\n"
     ]
    }
   ],
   "source": [
    "sequence_days = 7\n",
    "daily_counts = data_feature.groupby(['MONTH', 'DAY_OF_MONTH', 'DEPARTING_AIRPORT']).size()\n",
    "average_rows = daily_counts.mean()\n",
    "\n",
    "print(average_rows*sequence_days)"
   ]
  },
  {
   "cell_type": "code",
   "execution_count": 5,
   "metadata": {},
   "outputs": [],
   "source": [
    "data_full = data_encoded_scaled.assign(TARGET=data_target.values)"
   ]
  },
  {
   "cell_type": "code",
   "execution_count": 6,
   "metadata": {},
   "outputs": [
    {
     "name": "stdout",
     "output_type": "stream",
     "text": [
      "   MONTH  DAY_OF_MONTH  DAY_OF_WEEK  DEP_TIME_BLK  DISTANCE_GROUP  \\\n",
      "0    0.0           0.0     0.166667      0.166667        0.428571   \n",
      "1    0.0           0.0     0.166667      0.166667        0.428571   \n",
      "2    0.0           0.0     0.166667      0.166667        0.428571   \n",
      "3    0.0           0.0     0.166667      0.166667        0.428571   \n",
      "4    0.0           0.0     0.166667      0.166667        0.285714   \n",
      "\n",
      "   SEGMENT_NUMBER  CONCURRENT_FLIGHTS  NUMBER_OF_SEATS  AIRPORT_FLIGHTS_MONTH  \\\n",
      "0           0.000            0.098592              1.0               0.115453   \n",
      "1           0.000            0.098592              1.0               0.115453   \n",
      "2           0.000            0.112676              1.0               0.111384   \n",
      "3           0.000            0.267606              1.0               0.333661   \n",
      "4           0.125            0.042254              1.0               0.028528   \n",
      "\n",
      "   AIRLINE_FLIGHTS_MONTH  ...  PREVIOUS_AIRPORT_3  PREVIOUS_AIRPORT_4  \\\n",
      "0               0.183515  ...                 0.0                 0.0   \n",
      "1               0.183515  ...                 0.0                 0.0   \n",
      "2               0.183515  ...                 0.0                 0.0   \n",
      "3               0.183515  ...                 0.0                 0.0   \n",
      "4               0.183515  ...                 0.0                 0.0   \n",
      "\n",
      "   PREVIOUS_AIRPORT_5  PREVIOUS_AIRPORT_6  PRCP  SNOW  SNWD      TMAX  \\\n",
      "0                 0.0                 1.0   0.0   0.0   0.0  0.353982   \n",
      "1                 0.0                 1.0   0.0   0.0   0.0  0.353982   \n",
      "2                 0.0                 1.0   0.0   0.0   0.0  0.451327   \n",
      "3                 0.0                 1.0   0.0   0.0   0.0  0.699115   \n",
      "4                 1.0                 0.0   0.0   0.0   0.0  0.460177   \n",
      "\n",
      "       AWND  TARGET  \n",
      "0  0.198638       0  \n",
      "1  0.198638       0  \n",
      "2  0.172291       0  \n",
      "3  0.370930       0  \n",
      "4  0.178804       0  \n",
      "\n",
      "[5 rows x 33 columns]\n"
     ]
    }
   ],
   "source": [
    "print(data_full.head())"
   ]
  },
  {
   "cell_type": "code",
   "execution_count": 7,
   "metadata": {},
   "outputs": [
    {
     "name": "stdout",
     "output_type": "stream",
     "text": [
      "Input sequences shape: (41100, 28, 32)\n",
      "Target values shape: (41100,)\n"
     ]
    }
   ],
   "source": [
    "import numpy as np\n",
    "\n",
    "sequence_length = int(round(average_rows*sequence_days))\n",
    "\n",
    "unique_dep_airport = data_feature['DEPARTING_AIRPORT'].unique()\n",
    "unique_flight_number = data_feature['FLIGHT_NUMBER'].unique()\n",
    "\n",
    "X_sequences = []\n",
    "y_targets = []\n",
    "\n",
    "for dep_airport in unique_dep_airport:\n",
    "    flight_data = data_full[data_feature['DEPARTING_AIRPORT'] == dep_airport]\n",
    "    flight_data_values = flight_data.iloc[:, :-1].values\n",
    "    flight_data_target = flight_data.iloc[:, -1].values\n",
    "    for i in range(len(flight_data) - sequence_length):\n",
    "        X_sequences.append(flight_data_values[i:i+sequence_length])\n",
    "        y_targets.append(flight_data_target[i+sequence_length])\n",
    "\n",
    "X_sequences = np.array(X_sequences)\n",
    "y_targets = np.array(y_targets)\n",
    "\n",
    "print(\"Input sequences shape:\", X_sequences.shape)\n",
    "print(\"Target values shape:\", y_targets.shape)"
   ]
  },
  {
   "cell_type": "code",
   "execution_count": 8,
   "metadata": {},
   "outputs": [],
   "source": [
    "from sklearn.model_selection import train_test_split\n",
    "\n",
    "data = list(zip(X_sequences, y_targets))\n",
    "\n",
    "# Shuffle the data\n",
    "np.random.shuffle(data)\n",
    "\n",
    "# Split the data into training and test sets\n",
    "train_data, test_data = train_test_split(data, test_size=0.2)\n",
    "\n",
    "# Separate the sequences and targets\n",
    "X_train, y_train = zip(*train_data)\n",
    "X_test, y_test = zip(*test_data)\n",
    "\n",
    "# Convert the results back to numpy arrays\n",
    "X_train = np.array(X_train)\n",
    "y_train = np.array(y_train)\n",
    "X_test = np.array(X_test)\n",
    "y_test = np.array(y_test)"
   ]
  },
  {
   "cell_type": "code",
   "execution_count": 9,
   "metadata": {},
   "outputs": [
    {
     "name": "stdout",
     "output_type": "stream",
     "text": [
      "WARNING:tensorflow:From e:\\Semester 3\\Deep Learning\\flight_delay\\venv\\lib\\site-packages\\keras\\src\\losses.py:2976: The name tf.losses.sparse_softmax_cross_entropy is deprecated. Please use tf.compat.v1.losses.sparse_softmax_cross_entropy instead.\n",
      "\n"
     ]
    }
   ],
   "source": [
    "from tensorflow.compat.v1.keras.models import Sequential\n",
    "from tensorflow.compat.v1.keras.layers import GRU, Dense\n",
    "from tensorflow.keras.metrics import Recall\n",
    "from keras import regularizers\n",
    "from keras.callbacks import EarlyStopping, ModelCheckpoint\n",
    "from keras.models import load_model\n",
    "from sklearn.utils.class_weight import compute_class_weight\n",
    "from keras.optimizers import Adam\n",
    "import numpy as np\n",
    "\n",
    "timesteps = X_train.shape[1]\n",
    "input_dim = X_train.shape[2]\n",
    "\n",
    "weights = compute_class_weight(class_weight = 'balanced', classes = np.unique(y_train) , y = y_train)\n",
    "class_weights = dict(zip(np.unique(y_train), weights))"
   ]
  },
  {
   "cell_type": "code",
   "execution_count": 10,
   "metadata": {},
   "outputs": [
    {
     "name": "stdout",
     "output_type": "stream",
     "text": [
      "WARNING:tensorflow:From e:\\Semester 3\\Deep Learning\\flight_delay\\venv\\lib\\site-packages\\keras\\src\\backend.py:873: The name tf.get_default_graph is deprecated. Please use tf.compat.v1.get_default_graph instead.\n",
      "\n",
      "Epoch 1/300\n",
      "WARNING:tensorflow:From e:\\Semester 3\\Deep Learning\\flight_delay\\venv\\lib\\site-packages\\keras\\src\\utils\\tf_utils.py:492: The name tf.ragged.RaggedTensorValue is deprecated. Please use tf.compat.v1.ragged.RaggedTensorValue instead.\n",
      "\n",
      "WARNING:tensorflow:From e:\\Semester 3\\Deep Learning\\flight_delay\\venv\\lib\\site-packages\\keras\\src\\engine\\base_layer_utils.py:384: The name tf.executing_eagerly_outside_functions is deprecated. Please use tf.compat.v1.executing_eagerly_outside_functions instead.\n",
      "\n",
      "819/822 [============================>.] - ETA: 0s - loss: 1.2232 - accuracy: 0.4994 - recall: 0.5765\n",
      "Epoch 1: val_loss improved from inf to 1.02952, saving model to model\\best_model_GRUs.h5\n",
      "822/822 [==============================] - 13s 13ms/step - loss: 1.2223 - accuracy: 0.4991 - recall: 0.5764 - val_loss: 1.0295 - val_accuracy: 0.5021 - val_recall: 0.6672\n",
      "Epoch 2/300\n",
      " 14/822 [..............................] - ETA: 10s - loss: 0.9697 - accuracy: 0.4978 - recall: 0.6667"
     ]
    },
    {
     "name": "stderr",
     "output_type": "stream",
     "text": [
      "e:\\Semester 3\\Deep Learning\\flight_delay\\venv\\lib\\site-packages\\keras\\src\\engine\\training.py:3103: UserWarning: You are saving your model as an HDF5 file via `model.save()`. This file format is considered legacy. We recommend using instead the native Keras format, e.g. `model.save('my_model.keras')`.\n",
      "  saving_api.save_model(\n"
     ]
    },
    {
     "name": "stdout",
     "output_type": "stream",
     "text": [
      "821/822 [============================>.] - ETA: 0s - loss: 0.9026 - accuracy: 0.5399 - recall: 0.5683\n",
      "Epoch 2: val_loss improved from 1.02952 to 0.81766, saving model to model\\best_model_GRUs.h5\n",
      "822/822 [==============================] - 11s 14ms/step - loss: 0.9023 - accuracy: 0.5397 - recall: 0.5681 - val_loss: 0.8177 - val_accuracy: 0.5561 - val_recall: 0.5864\n",
      "Epoch 3/300\n",
      "822/822 [==============================] - ETA: 0s - loss: 0.7819 - accuracy: 0.5508 - recall: 0.5732\n",
      "Epoch 3: val_loss improved from 0.81766 to 0.75178, saving model to model\\best_model_GRUs.h5\n",
      "822/822 [==============================] - 11s 14ms/step - loss: 0.7819 - accuracy: 0.5508 - recall: 0.5732 - val_loss: 0.7518 - val_accuracy: 0.5531 - val_recall: 0.6260\n",
      "Epoch 4/300\n",
      "819/822 [============================>.] - ETA: 0s - loss: 0.7364 - accuracy: 0.5466 - recall: 0.5893\n",
      "Epoch 4: val_loss improved from 0.75178 to 0.71075, saving model to model\\best_model_GRUs.h5\n",
      "822/822 [==============================] - 11s 14ms/step - loss: 0.7364 - accuracy: 0.5467 - recall: 0.5886 - val_loss: 0.7108 - val_accuracy: 0.5917 - val_recall: 0.5515\n",
      "Epoch 5/300\n",
      "819/822 [============================>.] - ETA: 0s - loss: 0.7170 - accuracy: 0.5511 - recall: 0.5808\n",
      "Epoch 5: val_loss did not improve from 0.71075\n",
      "822/822 [==============================] - 12s 15ms/step - loss: 0.7171 - accuracy: 0.5515 - recall: 0.5821 - val_loss: 0.7168 - val_accuracy: 0.5415 - val_recall: 0.6506\n",
      "Epoch 6/300\n",
      "818/822 [============================>.] - ETA: 0s - loss: 0.7072 - accuracy: 0.5499 - recall: 0.5912\n",
      "Epoch 6: val_loss improved from 0.71075 to 0.71039, saving model to model\\best_model_GRUs.h5\n",
      "822/822 [==============================] - 11s 13ms/step - loss: 0.7072 - accuracy: 0.5498 - recall: 0.5911 - val_loss: 0.7104 - val_accuracy: 0.5362 - val_recall: 0.6577\n",
      "Epoch 7/300\n",
      "819/822 [============================>.] - ETA: 0s - loss: 0.7013 - accuracy: 0.5489 - recall: 0.5912\n",
      "Epoch 7: val_loss improved from 0.71039 to 0.70704, saving model to model\\best_model_GRUs.h5\n",
      "822/822 [==============================] - 12s 15ms/step - loss: 0.7015 - accuracy: 0.5490 - recall: 0.5917 - val_loss: 0.7070 - val_accuracy: 0.5333 - val_recall: 0.6783\n",
      "Epoch 8/300\n",
      "821/822 [============================>.] - ETA: 0s - loss: 0.6971 - accuracy: 0.5496 - recall: 0.5920\n",
      "Epoch 8: val_loss improved from 0.70704 to 0.70475, saving model to model\\best_model_GRUs.h5\n",
      "822/822 [==============================] - 12s 14ms/step - loss: 0.6969 - accuracy: 0.5497 - recall: 0.5923 - val_loss: 0.7048 - val_accuracy: 0.5257 - val_recall: 0.6783\n",
      "Epoch 9/300\n",
      "821/822 [============================>.] - ETA: 0s - loss: 0.6934 - accuracy: 0.5462 - recall: 0.5911\n",
      "Epoch 9: val_loss improved from 0.70475 to 0.69375, saving model to model\\best_model_GRUs.h5\n",
      "822/822 [==============================] - 12s 14ms/step - loss: 0.6936 - accuracy: 0.5463 - recall: 0.5909 - val_loss: 0.6938 - val_accuracy: 0.5468 - val_recall: 0.6434\n",
      "Epoch 10/300\n",
      "821/822 [============================>.] - ETA: 0s - loss: 0.6900 - accuracy: 0.5461 - recall: 0.5989\n",
      "Epoch 10: val_loss improved from 0.69375 to 0.68804, saving model to model\\best_model_GRUs.h5\n",
      "822/822 [==============================] - 12s 14ms/step - loss: 0.6903 - accuracy: 0.5460 - recall: 0.5982 - val_loss: 0.6880 - val_accuracy: 0.5576 - val_recall: 0.6252\n",
      "Epoch 11/300\n",
      "819/822 [============================>.] - ETA: 0s - loss: 0.6894 - accuracy: 0.5521 - recall: 0.5915\n",
      "Epoch 11: val_loss did not improve from 0.68804\n",
      "822/822 [==============================] - 11s 13ms/step - loss: 0.6898 - accuracy: 0.5521 - recall: 0.5919 - val_loss: 0.6958 - val_accuracy: 0.5303 - val_recall: 0.6751\n",
      "Epoch 12/300\n",
      "820/822 [============================>.] - ETA: 0s - loss: 0.6879 - accuracy: 0.5425 - recall: 0.6003\n",
      "Epoch 12: val_loss improved from 0.68804 to 0.68269, saving model to model\\best_model_GRUs.h5\n",
      "822/822 [==============================] - 11s 13ms/step - loss: 0.6881 - accuracy: 0.5427 - recall: 0.6002 - val_loss: 0.6827 - val_accuracy: 0.5610 - val_recall: 0.6133\n",
      "Epoch 13/300\n",
      "820/822 [============================>.] - ETA: 0s - loss: 0.6874 - accuracy: 0.5475 - recall: 0.6110\n",
      "Epoch 13: val_loss improved from 0.68269 to 0.68190, saving model to model\\best_model_GRUs.h5\n",
      "822/822 [==============================] - 11s 14ms/step - loss: 0.6873 - accuracy: 0.5476 - recall: 0.6112 - val_loss: 0.6819 - val_accuracy: 0.5575 - val_recall: 0.6197\n",
      "Epoch 14/300\n",
      "822/822 [==============================] - ETA: 0s - loss: 0.6861 - accuracy: 0.5474 - recall: 0.5907\n",
      "Epoch 14: val_loss improved from 0.68190 to 0.67578, saving model to model\\best_model_GRUs.h5\n",
      "822/822 [==============================] - 11s 14ms/step - loss: 0.6861 - accuracy: 0.5474 - recall: 0.5907 - val_loss: 0.6758 - val_accuracy: 0.5748 - val_recall: 0.5959\n",
      "Epoch 15/300\n",
      "821/822 [============================>.] - ETA: 0s - loss: 0.6845 - accuracy: 0.5493 - recall: 0.5947\n",
      "Epoch 15: val_loss improved from 0.67578 to 0.66887, saving model to model\\best_model_GRUs.h5\n",
      "822/822 [==============================] - 11s 14ms/step - loss: 0.6844 - accuracy: 0.5493 - recall: 0.5949 - val_loss: 0.6689 - val_accuracy: 0.5973 - val_recall: 0.5666\n",
      "Epoch 16/300\n",
      "822/822 [==============================] - ETA: 0s - loss: 0.6841 - accuracy: 0.5543 - recall: 0.5947\n",
      "Epoch 16: val_loss improved from 0.66887 to 0.66789, saving model to model\\best_model_GRUs.h5\n",
      "822/822 [==============================] - 11s 13ms/step - loss: 0.6841 - accuracy: 0.5543 - recall: 0.5947 - val_loss: 0.6679 - val_accuracy: 0.5937 - val_recall: 0.5697\n",
      "Epoch 17/300\n",
      "822/822 [==============================] - ETA: 0s - loss: 0.6831 - accuracy: 0.5588 - recall: 0.5860\n",
      "Epoch 17: val_loss did not improve from 0.66789\n",
      "822/822 [==============================] - 11s 13ms/step - loss: 0.6831 - accuracy: 0.5588 - recall: 0.5860 - val_loss: 0.6873 - val_accuracy: 0.5400 - val_recall: 0.6529\n",
      "Epoch 18/300\n",
      "821/822 [============================>.] - ETA: 0s - loss: 0.6827 - accuracy: 0.5515 - recall: 0.5955\n",
      "Epoch 18: val_loss did not improve from 0.66789\n",
      "822/822 [==============================] - 10s 13ms/step - loss: 0.6829 - accuracy: 0.5512 - recall: 0.5949 - val_loss: 0.6897 - val_accuracy: 0.5327 - val_recall: 0.6616\n",
      "Epoch 19/300\n",
      "815/822 [============================>.] - ETA: 0s - loss: 0.6815 - accuracy: 0.5529 - recall: 0.5926\n",
      "Epoch 19: val_loss did not improve from 0.66789\n",
      "822/822 [==============================] - 7s 9ms/step - loss: 0.6821 - accuracy: 0.5522 - recall: 0.5917 - val_loss: 0.6915 - val_accuracy: 0.5236 - val_recall: 0.6751\n",
      "Epoch 20/300\n",
      "819/822 [============================>.] - ETA: 0s - loss: 0.6817 - accuracy: 0.5491 - recall: 0.6020\n",
      "Epoch 20: val_loss did not improve from 0.66789\n",
      "822/822 [==============================] - 5s 6ms/step - loss: 0.6818 - accuracy: 0.5491 - recall: 0.6024 - val_loss: 0.6810 - val_accuracy: 0.5564 - val_recall: 0.6331\n",
      "Epoch 21/300\n",
      "816/822 [============================>.] - ETA: 0s - loss: 0.6811 - accuracy: 0.5520 - recall: 0.6035\n",
      "Epoch 21: val_loss improved from 0.66789 to 0.66779, saving model to model\\best_model_GRUs.h5\n",
      "822/822 [==============================] - 5s 7ms/step - loss: 0.6811 - accuracy: 0.5517 - recall: 0.6032 - val_loss: 0.6678 - val_accuracy: 0.5884 - val_recall: 0.5697\n",
      "Epoch 22/300\n",
      "814/822 [============================>.] - ETA: 0s - loss: 0.6820 - accuracy: 0.5471 - recall: 0.5904\n",
      "Epoch 22: val_loss did not improve from 0.66779\n",
      "822/822 [==============================] - 5s 6ms/step - loss: 0.6823 - accuracy: 0.5460 - recall: 0.5903 - val_loss: 0.6789 - val_accuracy: 0.5616 - val_recall: 0.6165\n",
      "Epoch 23/300\n",
      "820/822 [============================>.] - ETA: 0s - loss: 0.6810 - accuracy: 0.5511 - recall: 0.6003\n",
      "Epoch 23: val_loss did not improve from 0.66779\n",
      "822/822 [==============================] - 5s 6ms/step - loss: 0.6809 - accuracy: 0.5511 - recall: 0.6010 - val_loss: 0.6882 - val_accuracy: 0.5339 - val_recall: 0.6656\n",
      "Epoch 24/300\n",
      "816/822 [============================>.] - ETA: 0s - loss: 0.6811 - accuracy: 0.5511 - recall: 0.5887\n",
      "Epoch 24: val_loss did not improve from 0.66779\n",
      "822/822 [==============================] - 5s 6ms/step - loss: 0.6815 - accuracy: 0.5511 - recall: 0.5878 - val_loss: 0.6765 - val_accuracy: 0.5655 - val_recall: 0.6078\n",
      "Epoch 25/300\n",
      "821/822 [============================>.] - ETA: 0s - loss: 0.6807 - accuracy: 0.5511 - recall: 0.5909\n",
      "Epoch 25: val_loss did not improve from 0.66779\n",
      "822/822 [==============================] - 5s 6ms/step - loss: 0.6808 - accuracy: 0.5510 - recall: 0.5907 - val_loss: 0.6725 - val_accuracy: 0.5741 - val_recall: 0.5959\n",
      "Epoch 26/300\n",
      "816/822 [============================>.] - ETA: 0s - loss: 0.6809 - accuracy: 0.5524 - recall: 0.6038\n",
      "Epoch 26: val_loss did not improve from 0.66779\n",
      "822/822 [==============================] - 5s 6ms/step - loss: 0.6805 - accuracy: 0.5523 - recall: 0.6039 - val_loss: 0.6804 - val_accuracy: 0.5528 - val_recall: 0.6284\n",
      "Epoch 27/300\n",
      "814/822 [============================>.] - ETA: 0s - loss: 0.6794 - accuracy: 0.5551 - recall: 0.5972\n",
      "Epoch 27: val_loss did not improve from 0.66779\n",
      "822/822 [==============================] - 5s 6ms/step - loss: 0.6794 - accuracy: 0.5547 - recall: 0.5980 - val_loss: 0.6800 - val_accuracy: 0.5484 - val_recall: 0.6371\n",
      "Epoch 28/300\n",
      "822/822 [==============================] - ETA: 0s - loss: 0.6809 - accuracy: 0.5481 - recall: 0.5825\n",
      "Epoch 28: val_loss improved from 0.66779 to 0.66766, saving model to model\\best_model_GRUs.h5\n",
      "822/822 [==============================] - 5s 6ms/step - loss: 0.6809 - accuracy: 0.5481 - recall: 0.5825 - val_loss: 0.6677 - val_accuracy: 0.5876 - val_recall: 0.5903\n",
      "Epoch 29/300\n",
      "814/822 [============================>.] - ETA: 0s - loss: 0.6791 - accuracy: 0.5501 - recall: 0.5984\n",
      "Epoch 29: val_loss did not improve from 0.66766\n",
      "822/822 [==============================] - 5s 6ms/step - loss: 0.6791 - accuracy: 0.5500 - recall: 0.5988 - val_loss: 0.6811 - val_accuracy: 0.5453 - val_recall: 0.6529\n",
      "Epoch 30/300\n",
      "822/822 [==============================] - ETA: 0s - loss: 0.6801 - accuracy: 0.5520 - recall: 0.5961\n",
      "Epoch 30: val_loss did not improve from 0.66766\n",
      "822/822 [==============================] - 5s 6ms/step - loss: 0.6801 - accuracy: 0.5520 - recall: 0.5961 - val_loss: 0.6723 - val_accuracy: 0.5709 - val_recall: 0.6165\n",
      "Epoch 31/300\n",
      "815/822 [============================>.] - ETA: 0s - loss: 0.6795 - accuracy: 0.5471 - recall: 0.6042\n",
      "Epoch 31: val_loss improved from 0.66766 to 0.66229, saving model to model\\best_model_GRUs.h5\n",
      "822/822 [==============================] - 5s 6ms/step - loss: 0.6796 - accuracy: 0.5474 - recall: 0.6039 - val_loss: 0.6623 - val_accuracy: 0.5973 - val_recall: 0.5674\n",
      "Epoch 32/300\n",
      "816/822 [============================>.] - ETA: 0s - loss: 0.6801 - accuracy: 0.5547 - recall: 0.5904\n",
      "Epoch 32: val_loss did not improve from 0.66229\n",
      "822/822 [==============================] - 5s 6ms/step - loss: 0.6797 - accuracy: 0.5543 - recall: 0.5909 - val_loss: 0.6865 - val_accuracy: 0.5306 - val_recall: 0.6640\n",
      "Epoch 33/300\n",
      "814/822 [============================>.] - ETA: 0s - loss: 0.6801 - accuracy: 0.5525 - recall: 0.6003\n",
      "Epoch 33: val_loss improved from 0.66229 to 0.65941, saving model to model\\best_model_GRUs.h5\n",
      "822/822 [==============================] - 5s 6ms/step - loss: 0.6796 - accuracy: 0.5531 - recall: 0.5992 - val_loss: 0.6594 - val_accuracy: 0.6069 - val_recall: 0.5523\n",
      "Epoch 34/300\n",
      "820/822 [============================>.] - ETA: 0s - loss: 0.6794 - accuracy: 0.5548 - recall: 0.5953\n",
      "Epoch 34: val_loss did not improve from 0.65941\n",
      "822/822 [==============================] - 5s 6ms/step - loss: 0.6790 - accuracy: 0.5547 - recall: 0.5953 - val_loss: 0.6655 - val_accuracy: 0.5890 - val_recall: 0.5808\n",
      "Epoch 35/300\n",
      "820/822 [============================>.] - ETA: 0s - loss: 0.6799 - accuracy: 0.5560 - recall: 0.5832\n",
      "Epoch 35: val_loss improved from 0.65941 to 0.65902, saving model to model\\best_model_GRUs.h5\n",
      "822/822 [==============================] - 5s 6ms/step - loss: 0.6797 - accuracy: 0.5560 - recall: 0.5829 - val_loss: 0.6590 - val_accuracy: 0.6107 - val_recall: 0.5452\n",
      "Epoch 36/300\n",
      "821/822 [============================>.] - ETA: 0s - loss: 0.6784 - accuracy: 0.5597 - recall: 0.5914\n",
      "Epoch 36: val_loss did not improve from 0.65902\n",
      "822/822 [==============================] - 5s 6ms/step - loss: 0.6784 - accuracy: 0.5596 - recall: 0.5915 - val_loss: 0.6776 - val_accuracy: 0.5561 - val_recall: 0.6387\n",
      "Epoch 37/300\n",
      "813/822 [============================>.] - ETA: 0s - loss: 0.6801 - accuracy: 0.5512 - recall: 0.5951\n",
      "Epoch 37: val_loss did not improve from 0.65902\n",
      "822/822 [==============================] - 5s 6ms/step - loss: 0.6797 - accuracy: 0.5511 - recall: 0.5947 - val_loss: 0.6694 - val_accuracy: 0.5771 - val_recall: 0.5935\n",
      "Epoch 38/300\n",
      "813/822 [============================>.] - ETA: 0s - loss: 0.6790 - accuracy: 0.5572 - recall: 0.5862\n",
      "Epoch 38: val_loss did not improve from 0.65902\n",
      "822/822 [==============================] - 5s 6ms/step - loss: 0.6794 - accuracy: 0.5562 - recall: 0.5848 - val_loss: 0.6828 - val_accuracy: 0.5458 - val_recall: 0.6466\n",
      "Epoch 39/300\n",
      "815/822 [============================>.] - ETA: 0s - loss: 0.6791 - accuracy: 0.5461 - recall: 0.5959\n",
      "Epoch 39: val_loss improved from 0.65902 to 0.64525, saving model to model\\best_model_GRUs.h5\n",
      "822/822 [==============================] - 5s 6ms/step - loss: 0.6789 - accuracy: 0.5471 - recall: 0.5961 - val_loss: 0.6452 - val_accuracy: 0.6469 - val_recall: 0.4628\n",
      "Epoch 40/300\n",
      "815/822 [============================>.] - ETA: 0s - loss: 0.6788 - accuracy: 0.5581 - recall: 0.5795\n",
      "Epoch 40: val_loss did not improve from 0.64525\n",
      "822/822 [==============================] - 5s 6ms/step - loss: 0.6792 - accuracy: 0.5583 - recall: 0.5795 - val_loss: 0.6615 - val_accuracy: 0.5946 - val_recall: 0.5737\n",
      "Epoch 41/300\n",
      "818/822 [============================>.] - ETA: 0s - loss: 0.6786 - accuracy: 0.5532 - recall: 0.5971\n",
      "Epoch 41: val_loss did not improve from 0.64525\n",
      "822/822 [==============================] - 5s 6ms/step - loss: 0.6784 - accuracy: 0.5534 - recall: 0.5965 - val_loss: 0.6567 - val_accuracy: 0.6051 - val_recall: 0.5452\n",
      "Epoch 42/300\n",
      "822/822 [==============================] - ETA: 0s - loss: 0.6790 - accuracy: 0.5561 - recall: 0.5903\n",
      "Epoch 42: val_loss did not improve from 0.64525\n",
      "822/822 [==============================] - 5s 6ms/step - loss: 0.6790 - accuracy: 0.5561 - recall: 0.5903 - val_loss: 0.6600 - val_accuracy: 0.6049 - val_recall: 0.5563\n",
      "Epoch 43/300\n",
      "821/822 [============================>.] - ETA: 0s - loss: 0.6781 - accuracy: 0.5525 - recall: 0.5972\n",
      "Epoch 43: val_loss did not improve from 0.64525\n",
      "822/822 [==============================] - 5s 6ms/step - loss: 0.6781 - accuracy: 0.5523 - recall: 0.5970 - val_loss: 0.6546 - val_accuracy: 0.6153 - val_recall: 0.5468\n",
      "Epoch 44/300\n",
      "818/822 [============================>.] - ETA: 0s - loss: 0.6792 - accuracy: 0.5549 - recall: 0.5859\n",
      "Epoch 44: val_loss did not improve from 0.64525\n",
      "822/822 [==============================] - 5s 6ms/step - loss: 0.6792 - accuracy: 0.5546 - recall: 0.5856 - val_loss: 0.6731 - val_accuracy: 0.5671 - val_recall: 0.6236\n",
      "Epoch 45/300\n",
      "822/822 [==============================] - ETA: 0s - loss: 0.6790 - accuracy: 0.5553 - recall: 0.5866\n",
      "Epoch 45: val_loss did not improve from 0.64525\n",
      "822/822 [==============================] - 5s 6ms/step - loss: 0.6790 - accuracy: 0.5553 - recall: 0.5866 - val_loss: 0.6800 - val_accuracy: 0.5502 - val_recall: 0.6474\n",
      "Epoch 46/300\n",
      "817/822 [============================>.] - ETA: 0s - loss: 0.6790 - accuracy: 0.5528 - recall: 0.5987\n",
      "Epoch 46: val_loss did not improve from 0.64525\n",
      "822/822 [==============================] - 5s 6ms/step - loss: 0.6785 - accuracy: 0.5534 - recall: 0.5996 - val_loss: 0.6676 - val_accuracy: 0.5836 - val_recall: 0.5895\n",
      "Epoch 47/300\n",
      "820/822 [============================>.] - ETA: 0s - loss: 0.6797 - accuracy: 0.5554 - recall: 0.5820\n",
      "Epoch 47: val_loss did not improve from 0.64525\n",
      "822/822 [==============================] - 5s 6ms/step - loss: 0.6796 - accuracy: 0.5553 - recall: 0.5823 - val_loss: 0.6923 - val_accuracy: 0.5141 - val_recall: 0.7044\n",
      "Epoch 48/300\n",
      "815/822 [============================>.] - ETA: 0s - loss: 0.6772 - accuracy: 0.5585 - recall: 0.5939\n",
      "Epoch 48: val_loss did not improve from 0.64525\n",
      "822/822 [==============================] - 5s 6ms/step - loss: 0.6771 - accuracy: 0.5583 - recall: 0.5939 - val_loss: 0.6767 - val_accuracy: 0.5590 - val_recall: 0.6244\n",
      "Epoch 49/300\n",
      "821/822 [============================>.] - ETA: 0s - loss: 0.6789 - accuracy: 0.5519 - recall: 0.5829\n",
      "Epoch 49: val_loss did not improve from 0.64525\n",
      "822/822 [==============================] - 5s 6ms/step - loss: 0.6789 - accuracy: 0.5520 - recall: 0.5829 - val_loss: 0.6767 - val_accuracy: 0.5596 - val_recall: 0.6339\n",
      "Epoch 50/300\n",
      "822/822 [==============================] - ETA: 0s - loss: 0.6776 - accuracy: 0.5591 - recall: 0.5921\n",
      "Epoch 50: val_loss did not improve from 0.64525\n",
      "822/822 [==============================] - 5s 6ms/step - loss: 0.6776 - accuracy: 0.5591 - recall: 0.5921 - val_loss: 0.6913 - val_accuracy: 0.5152 - val_recall: 0.6902\n",
      "Epoch 51/300\n",
      "819/822 [============================>.] - ETA: 0s - loss: 0.6797 - accuracy: 0.5461 - recall: 0.5919\n",
      "Epoch 51: val_loss did not improve from 0.64525\n",
      "822/822 [==============================] - 5s 6ms/step - loss: 0.6796 - accuracy: 0.5465 - recall: 0.5919 - val_loss: 0.6631 - val_accuracy: 0.5914 - val_recall: 0.5753\n",
      "Epoch 52/300\n",
      "820/822 [============================>.] - ETA: 0s - loss: 0.6795 - accuracy: 0.5519 - recall: 0.5922\n",
      "Epoch 52: val_loss did not improve from 0.64525\n",
      "822/822 [==============================] - 5s 6ms/step - loss: 0.6795 - accuracy: 0.5519 - recall: 0.5929 - val_loss: 0.6956 - val_accuracy: 0.5015 - val_recall: 0.7108\n",
      "Epoch 53/300\n",
      "822/822 [==============================] - ETA: 0s - loss: 0.6782 - accuracy: 0.5490 - recall: 0.6051\n",
      "Epoch 53: val_loss did not improve from 0.64525\n",
      "822/822 [==============================] - 12s 14ms/step - loss: 0.6782 - accuracy: 0.5490 - recall: 0.6051 - val_loss: 0.6593 - val_accuracy: 0.6060 - val_recall: 0.5602\n",
      "Epoch 54/300\n",
      "820/822 [============================>.] - ETA: 0s - loss: 0.6791 - accuracy: 0.5543 - recall: 0.5824\n",
      "Epoch 54: val_loss did not improve from 0.64525\n",
      "822/822 [==============================] - 12s 14ms/step - loss: 0.6789 - accuracy: 0.5542 - recall: 0.5821 - val_loss: 0.6846 - val_accuracy: 0.5332 - val_recall: 0.6743\n",
      "Epoch 55/300\n",
      "820/822 [============================>.] - ETA: 0s - loss: 0.6789 - accuracy: 0.5488 - recall: 0.6020\n",
      "Epoch 55: val_loss did not improve from 0.64525\n",
      "822/822 [==============================] - 12s 14ms/step - loss: 0.6786 - accuracy: 0.5489 - recall: 0.6016 - val_loss: 0.6759 - val_accuracy: 0.5558 - val_recall: 0.6292\n",
      "Epoch 56/300\n",
      "819/822 [============================>.] - ETA: 0s - loss: 0.6781 - accuracy: 0.5595 - recall: 0.5973\n",
      "Epoch 56: val_loss did not improve from 0.64525\n",
      "822/822 [==============================] - 12s 14ms/step - loss: 0.6781 - accuracy: 0.5594 - recall: 0.5974 - val_loss: 0.6818 - val_accuracy: 0.5418 - val_recall: 0.6498\n",
      "Epoch 57/300\n",
      "822/822 [==============================] - ETA: 0s - loss: 0.6790 - accuracy: 0.5542 - recall: 0.5915\n",
      "Epoch 57: val_loss did not improve from 0.64525\n",
      "822/822 [==============================] - 12s 14ms/step - loss: 0.6790 - accuracy: 0.5542 - recall: 0.5915 - val_loss: 0.6738 - val_accuracy: 0.5623 - val_recall: 0.6149\n",
      "Epoch 58/300\n",
      "821/822 [============================>.] - ETA: 0s - loss: 0.6782 - accuracy: 0.5526 - recall: 0.6071\n",
      "Epoch 58: val_loss did not improve from 0.64525\n",
      "822/822 [==============================] - 12s 15ms/step - loss: 0.6782 - accuracy: 0.5528 - recall: 0.6069 - val_loss: 0.6602 - val_accuracy: 0.6049 - val_recall: 0.5563\n",
      "Epoch 59/300\n",
      "820/822 [============================>.] - ETA: 0s - loss: 0.6791 - accuracy: 0.5524 - recall: 0.5852\n",
      "Epoch 59: val_loss did not improve from 0.64525\n",
      "822/822 [==============================] - 12s 14ms/step - loss: 0.6792 - accuracy: 0.5522 - recall: 0.5846 - val_loss: 0.6545 - val_accuracy: 0.6229 - val_recall: 0.5246\n"
     ]
    },
    {
     "data": {
      "text/plain": [
       "<keras.src.callbacks.History at 0x19706ac82b0>"
      ]
     },
     "execution_count": 10,
     "metadata": {},
     "output_type": "execute_result"
    }
   ],
   "source": [
    "# Define the RNN model\n",
    "\n",
    "model = Sequential()\n",
    "\n",
    "model.add(GRU(32, input_shape=(timesteps, input_dim),\n",
    "                    kernel_regularizer=regularizers.l2(0.01),\n",
    "                    recurrent_regularizer=regularizers.l2(0.01),\n",
    "                    bias_regularizer=regularizers.l2(0.01),\n",
    "                     dropout=0.4, recurrent_dropout=0.4))\n",
    "model.add(Dense(1, activation='sigmoid'))\n",
    "\n",
    "opt = Adam(learning_rate=0.0001)\n",
    "\n",
    "# Compile the model\n",
    "model.compile(loss='binary_crossentropy', optimizer=opt, metrics=['accuracy', Recall()])\n",
    "\n",
    "\n",
    "# Define early stopping\n",
    "early_stopping = EarlyStopping(monitor='val_loss', patience=20)\n",
    "\n",
    "checkpoint = ModelCheckpoint('model/best_model_GRUs.h5', monitor='val_loss', verbose=1, save_best_only=True, mode='min')\n",
    "\n",
    "# Train the model\n",
    "model.fit(X_train, y_train, epochs=300, batch_size=32, validation_split=0.2, callbacks=[early_stopping, checkpoint], class_weight=class_weights)"
   ]
  },
  {
   "cell_type": "code",
   "execution_count": 11,
   "metadata": {},
   "outputs": [
    {
     "name": "stdout",
     "output_type": "stream",
     "text": [
      "257/257 [==============================] - 1s 5ms/step\n",
      "      Prediction  Actual\n",
      "0       0.513968       0\n",
      "1       0.561190       0\n",
      "2       0.494488       0\n",
      "3       0.564398       0\n",
      "4       0.523057       0\n",
      "...          ...     ...\n",
      "8215    0.437075       0\n",
      "8216    0.408005       0\n",
      "8217    0.555621       0\n",
      "8218    0.379312       0\n",
      "8219    0.432868       0\n",
      "\n",
      "[8220 rows x 2 columns]\n"
     ]
    }
   ],
   "source": [
    "# Make predictions using the model\n",
    "best_model = load_model('model/best_model_GRUs.h5')\n",
    "\n",
    "predictions = best_model.predict(X_test)\n",
    "\n",
    "# Compare the predictions with the actual values\n",
    "comparison = pd.DataFrame({'Prediction': predictions.flatten(), 'Actual': y_test})\n",
    "\n",
    "# Print the comparison\n",
    "print(comparison)\n",
    "predictions_labels = [1 if p > 0.5 else 0 for p in predictions.flatten()]"
   ]
  },
  {
   "cell_type": "code",
   "execution_count": 12,
   "metadata": {},
   "outputs": [
    {
     "data": {
      "image/png": "[encoded data removed]",
      "text/plain": [
       "<Figure size 1000x700 with 2 Axes>"
      ]
     },
     "metadata": {},
     "output_type": "display_data"
    }
   ],
   "source": [
    "from sklearn.metrics import confusion_matrix, classification_report\n",
    "import seaborn as sns\n",
    "\n",
    "cm = confusion_matrix(y_test, predictions_labels)\n",
    "plt.figure(figsize=(10, 7))\n",
    "sns.heatmap(cm, annot=True, fmt='d')\n",
    "plt.xlabel('Predicted')\n",
    "plt.ylabel('Truth')\n",
    "plt.show()"
   ]
  },
  {
   "cell_type": "code",
   "execution_count": 13,
   "metadata": {},
   "outputs": [
    {
     "name": "stdout",
     "output_type": "stream",
     "text": [
      "              precision    recall  f1-score   support\n",
      "\n",
      "           0       0.85      0.69      0.76      6688\n",
      "           1       0.25      0.46      0.32      1532\n",
      "\n",
      "    accuracy                           0.65      8220\n",
      "   macro avg       0.55      0.57      0.54      8220\n",
      "weighted avg       0.74      0.65      0.68      8220\n",
      "\n"
     ]
    }
   ],
   "source": [
    "report = classification_report(y_test, predictions_labels, output_dict=True)\n",
    "print(classification_report(y_test, predictions_labels))\n",
    "df = pd.DataFrame(report).transpose()\n",
    "df.to_csv('result/GRUs.csv')"
   ]
  }
 ],
 "metadata": {
  "kernelspec": {
   "display_name": "venv",
   "language": "python",
   "name": "python3"
  },
  "language_info": {
   "codemirror_mode": {
    "name": "ipython",
    "version": 3
   },
   "file_extension": ".py",
   "mimetype": "text/x-python",
   "name": "python",
   "nbconvert_exporter": "python",
   "pygments_lexer": "ipython3",
   "version": "3.9.6"
  }
 },
 "nbformat": 4,
 "nbformat_minor": 2
}
