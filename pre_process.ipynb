{
 "cells": [
  {
   "cell_type": "code",
   "execution_count": 5,
   "metadata": {},
   "outputs": [],
   "source": [
    "import pandas as pd\n",
    "import category_encoders as ce\n",
    "from sklearn.preprocessing import OrdinalEncoder\n",
    "from pmdarima import auto_arima\n",
    "from sklearn.preprocessing import MinMaxScaler"
   ]
  },
  {
   "cell_type": "code",
   "execution_count": 7,
   "metadata": {},
   "outputs": [],
   "source": [
    "data = pd.read_csv('data/raw_data.csv')"
   ]
  },
  {
   "cell_type": "code",
   "execution_count": 8,
   "metadata": {},
   "outputs": [],
   "source": [
    "data['TOTAL_DELAY'] = data['ARR_DELAY_NEW']\n",
    "data1 = data.drop(columns=['CARRIER_NAME','AVG_MONTHLY_PASS_AIRLINE','ARR_DELAY_NEW','OP_CARRIER_FL_NUM', 'FLT_ATTENDANTS_PER_PASS', 'GROUND_SERV_PER_PASS', 'PLANE_AGE'])\n",
    "data1 = data1.dropna(subset=['TOTAL_DELAY'])"
   ]
  },
  {
   "cell_type": "code",
   "execution_count": 9,
   "metadata": {},
   "outputs": [],
   "source": [
    "order = ['0001-0559', '0600-0659', '0700-0759', '0800-0859', '0900-0959', '1000-1059', '1100-1159', '1200-1259', '1300-1359', '1400-1459', '1500-1559', '1600-1659', '1700-1759', '1800-1859', '1900-1959', '2000-2059', '2100-2159', '2200-2259', '2300-2359']\n",
    "data1['DEP_TIME_BLK'] = pd.Categorical(data1['DEP_TIME_BLK'], categories=order, ordered=True)"
   ]
  },
  {
   "cell_type": "code",
   "execution_count": 10,
   "metadata": {},
   "outputs": [
    {
     "name": "stdout",
     "output_type": "stream",
     "text": [
      "   MONTH  DAY_OF_MONTH  DAY_OF_WEEK  DEP_DEL15 DEP_TIME_BLK  DISTANCE_GROUP  \\\n",
      "0      1             1            2          0    0800-0859               4   \n",
      "1      1             1            2          0    0800-0859               4   \n",
      "2      1             1            2          0    0800-0859               4   \n",
      "3      1             1            2          0    0800-0859               4   \n",
      "4      1             1            2          0    0800-0859               3   \n",
      "\n",
      "   SEGMENT_NUMBER  CONCURRENT_FLIGHTS  NUMBER_OF_SEATS  AIRPORT_FLIGHTS_MONTH  \\\n",
      "0               1                   8              129                   3689   \n",
      "1               1                   8              129                   3689   \n",
      "2               1                   9              129                   3598   \n",
      "3               1                  20              129                   8569   \n",
      "4               2                   4              129                   1745   \n",
      "\n",
      "   ...  LONGITUDE  PREVIOUS_AIRPORT        DATE PRCP  SNOW  SNWD  TMAX   AWND  \\\n",
      "0  ...    -86.282              NONE  2019-01-01  0.0   0.0   0.0  42.0   6.71   \n",
      "1  ...    -86.282              NONE  2019-01-01  0.0   0.0   0.0  42.0   6.71   \n",
      "2  ...    -84.669              NONE  2019-01-01  0.0   0.0   0.0  53.0   5.82   \n",
      "3  ...    -80.152              NONE  2019-01-01  0.0   0.0   0.0  81.0  12.53   \n",
      "4  ...    -85.739       Sanford NAS  2019-01-01  0.0   0.0   0.0  54.0   6.04   \n",
      "\n",
      "   FLIGHT_NUMBER  TOTAL_DELAY  \n",
      "0           1812          0.0  \n",
      "1           2870          1.0  \n",
      "2           1302          0.0  \n",
      "3           1706          0.0  \n",
      "4           2107          0.0  \n",
      "\n",
      "[5 rows x 25 columns]\n"
     ]
    }
   ],
   "source": [
    "data1.sort_values(['DATE', 'DEP_TIME_BLK'], inplace=True)\n",
    "data_cleaned = data1.reset_index(drop=True)\n",
    "print(data_cleaned.head())"
   ]
  },
  {
   "cell_type": "code",
   "execution_count": 11,
   "metadata": {},
   "outputs": [],
   "source": [
    "data_cleaned.to_csv('data/data_cleaned.csv', index=False)"
   ]
  },
  {
   "cell_type": "code",
   "execution_count": 12,
   "metadata": {},
   "outputs": [
    {
     "name": "stdout",
     "output_type": "stream",
     "text": [
      "MONTH                              12\n",
      "DAY_OF_MONTH                       31\n",
      "DAY_OF_WEEK                         7\n",
      "DEP_DEL15                           2\n",
      "DEP_TIME_BLK                       19\n",
      "DISTANCE_GROUP                      8\n",
      "SEGMENT_NUMBER                      9\n",
      "CONCURRENT_FLIGHTS                 71\n",
      "NUMBER_OF_SEATS                     2\n",
      "AIRPORT_FLIGHTS_MONTH             493\n",
      "AIRLINE_FLIGHTS_MONTH              12\n",
      "AIRLINE_AIRPORT_FLIGHTS_MONTH     174\n",
      "AVG_MONTHLY_PASS_AIRPORT           51\n",
      "DEPARTING_AIRPORT                  51\n",
      "LATITUDE                           51\n",
      "LONGITUDE                          51\n",
      "PREVIOUS_AIRPORT                  120\n",
      "DATE                              364\n",
      "PRCP                              246\n",
      "SNOW                               48\n",
      "SNWD                               15\n",
      "TMAX                              112\n",
      "AWND                              118\n",
      "FLIGHT_NUMBER                    1855\n",
      "dtype: int64\n",
      "['DEPARTING_AIRPORT', 'PREVIOUS_AIRPORT', 'DATE']\n"
     ]
    }
   ],
   "source": [
    "data_feature = data_cleaned.drop(columns=['TOTAL_DELAY'])\n",
    "print(data_feature.nunique())\n",
    "non_numeric_columns = data_feature.select_dtypes(include=['object']).columns.tolist()\n",
    "print(non_numeric_columns)"
   ]
  },
  {
   "cell_type": "code",
   "execution_count": 13,
   "metadata": {},
   "outputs": [],
   "source": [
    "# Ordinal encode the DEP_TIME_BLK column\n",
    "ordinal_encoder = OrdinalEncoder()\n",
    "data_feature['DEP_TIME_BLK'] = ordinal_encoder.fit_transform(data_feature[['DEP_TIME_BLK']])\n",
    "\n",
    "# Target encode the remaining two labels\n",
    "binary_encoder = ce.BinaryEncoder(cols=non_numeric_columns[:-1])\n",
    "data_encoded = binary_encoder.fit_transform(data_feature)"
   ]
  },
  {
   "cell_type": "markdown",
   "metadata": {},
   "source": [
    "Calculate residuals: "
   ]
  },
  {
   "cell_type": "code",
   "execution_count": 14,
   "metadata": {},
   "outputs": [
    {
     "name": "stdout",
     "output_type": "stream",
     "text": [
      "Performing stepwise search to minimize aic\n",
      " ARIMA(2,1,2)(0,0,0)[0] intercept   : AIC=458436.475, Time=12.68 sec\n",
      " ARIMA(0,1,0)(0,0,0)[0] intercept   : AIC=486723.249, Time=0.37 sec\n",
      " ARIMA(1,1,0)(0,0,0)[0] intercept   : AIC=474256.245, Time=0.81 sec\n",
      " ARIMA(0,1,1)(0,0,0)[0] intercept   : AIC=458446.287, Time=4.71 sec\n",
      " ARIMA(0,1,0)(0,0,0)[0]             : AIC=486721.249, Time=0.19 sec\n",
      " ARIMA(1,1,2)(0,0,0)[0] intercept   : AIC=458449.271, Time=7.88 sec\n",
      " ARIMA(2,1,1)(0,0,0)[0] intercept   : AIC=inf, Time=17.76 sec\n",
      " ARIMA(3,1,2)(0,0,0)[0] intercept   : AIC=inf, Time=15.17 sec\n",
      " ARIMA(2,1,3)(0,0,0)[0] intercept   : AIC=458449.325, Time=28.89 sec\n",
      " ARIMA(1,1,1)(0,0,0)[0] intercept   : AIC=458438.193, Time=12.06 sec\n",
      " ARIMA(1,1,3)(0,0,0)[0] intercept   : AIC=458436.558, Time=9.65 sec\n",
      " ARIMA(3,1,1)(0,0,0)[0] intercept   : AIC=inf, Time=25.09 sec\n",
      " ARIMA(3,1,3)(0,0,0)[0] intercept   : AIC=458436.847, Time=25.59 sec\n",
      " ARIMA(2,1,2)(0,0,0)[0]             : AIC=inf, Time=10.36 sec\n",
      "\n",
      "Best model:  ARIMA(2,1,2)(0,0,0)[0] intercept\n",
      "Total fit time: 171.225 seconds\n",
      "(2, 1, 2)\n"
     ]
    }
   ],
   "source": [
    "model = auto_arima(data_cleaned['TOTAL_DELAY'], seasonal=True, trace=True,\n",
    "                   error_action='ignore', suppress_warnings=True)\n",
    "print(model.order)"
   ]
  },
  {
   "cell_type": "code",
   "execution_count": 15,
   "metadata": {},
   "outputs": [
    {
     "name": "stdout",
     "output_type": "stream",
     "text": [
      "0         0.000002\n",
      "1         1.000002\n",
      "2        -0.505216\n",
      "3        -0.329428\n",
      "4        -0.238046\n",
      "           ...    \n",
      "42523   -15.980661\n",
      "42524   -15.375962\n",
      "42525   -14.901636\n",
      "42526   -14.998255\n",
      "42527    80.429708\n",
      "Length: 42528, dtype: float64\n"
     ]
    }
   ],
   "source": [
    "arima_predictions = model.predict_in_sample()\n",
    "residuals = data_cleaned['TOTAL_DELAY'] - arima_predictions\n",
    "print(residuals)"
   ]
  },
  {
   "cell_type": "markdown",
   "metadata": {},
   "source": [
    "Do not continas flight number as feature, because it is not a numerical value."
   ]
  },
  {
   "cell_type": "code",
   "execution_count": 16,
   "metadata": {},
   "outputs": [
    {
     "name": "stdout",
     "output_type": "stream",
     "text": [
      "MONTH                            0.005440\n",
      "DAY_OF_MONTH                    -0.005215\n",
      "DAY_OF_WEEK                      0.016262\n",
      "DEP_DEL15                        0.507516\n",
      "DEP_TIME_BLK                     0.089687\n",
      "DISTANCE_GROUP                   0.002379\n",
      "SEGMENT_NUMBER                   0.068513\n",
      "CONCURRENT_FLIGHTS              -0.057211\n",
      "NUMBER_OF_SEATS                  0.004010\n",
      "AIRPORT_FLIGHTS_MONTH           -0.050420\n",
      "AIRLINE_FLIGHTS_MONTH            0.013235\n",
      "AIRLINE_AIRPORT_FLIGHTS_MONTH   -0.069500\n",
      "AVG_MONTHLY_PASS_AIRPORT        -0.045253\n",
      "DEPARTING_AIRPORT_0              0.009234\n",
      "DEPARTING_AIRPORT_1              0.036050\n",
      "DEPARTING_AIRPORT_2              0.005721\n",
      "DEPARTING_AIRPORT_3             -0.024223\n",
      "DEPARTING_AIRPORT_4             -0.031905\n",
      "DEPARTING_AIRPORT_5              0.058747\n",
      "LATITUDE                        -0.013255\n",
      "LONGITUDE                        0.063778\n",
      "PREVIOUS_AIRPORT_0               0.021528\n",
      "PREVIOUS_AIRPORT_1               0.000359\n",
      "PREVIOUS_AIRPORT_2               0.013486\n",
      "PREVIOUS_AIRPORT_3               0.011543\n",
      "PREVIOUS_AIRPORT_4               0.008591\n",
      "PREVIOUS_AIRPORT_5               0.017631\n",
      "PREVIOUS_AIRPORT_6              -0.025910\n",
      "PRCP                             0.080669\n",
      "SNOW                             0.047836\n",
      "SNWD                             0.026741\n",
      "TMAX                            -0.012795\n",
      "AWND                             0.019309\n",
      "RESIDUALS                        0.989114\n",
      "dtype: float64\n"
     ]
    }
   ],
   "source": [
    "data_encoded['RESIDUALS'] = residuals\n",
    "data_feature_encoded = data_encoded.drop(columns=['FLIGHT_NUMBER', 'DATE'])\n",
    "\n",
    "data_target = data_cleaned['TOTAL_DELAY']\n",
    "correlations = data_feature_encoded.corrwith(data_target)\n",
    "print(correlations)"
   ]
  },
  {
   "cell_type": "code",
   "execution_count": 17,
   "metadata": {},
   "outputs": [],
   "source": [
    "scaler = MinMaxScaler()\n",
    "data_encoded_scaled = scaler.fit_transform(data_feature_encoded)\n",
    "data_encoded_scaled = pd.DataFrame(data_encoded_scaled, columns=data_feature_encoded.columns)"
   ]
  },
  {
   "cell_type": "code",
   "execution_count": 19,
   "metadata": {},
   "outputs": [],
   "source": [
    "data_encoded_scaled.to_csv('data/data_encoded_scaled.csv', index=False)"
   ]
  },
  {
   "cell_type": "markdown",
   "metadata": {},
   "source": [
    "data_cleaned: the dataset containing all information and departure delays, including flight number.\n",
    "\n",
    "data_feature: same as above without delay\n",
    "\n",
    "data_feature_encoded: performed encoding, discarding 'FLIGHT_NUMBER', 'DATE' these features that we will directly apply to make sequence\n",
    "\n",
    "data_encoded_scaled: completely processed and standardized features\n",
    "\n",
    "data_target: departure delay "
   ]
  }
 ],
 "metadata": {
  "kernelspec": {
   "display_name": "venv",
   "language": "python",
   "name": "python3"
  },
  "language_info": {
   "codemirror_mode": {
    "name": "ipython",
    "version": 3
   },
   "file_extension": ".py",
   "mimetype": "text/x-python",
   "name": "python",
   "nbconvert_exporter": "python",
   "pygments_lexer": "ipython3",
   "version": "3.9.6"
  }
 },
 "nbformat": 4,
 "nbformat_minor": 2
}
