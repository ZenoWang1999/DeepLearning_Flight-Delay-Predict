{
 "cells": [
  {
   "cell_type": "code",
   "execution_count": 1,
   "metadata": {},
   "outputs": [],
   "source": [
    "import pandas as pd\n",
    "import matplotlib.pyplot as plt"
   ]
  },
  {
   "cell_type": "code",
   "execution_count": 2,
   "metadata": {},
   "outputs": [],
   "source": [
    "data_encoded_scaled = pd.read_csv('data/data_encoded_scaled.csv')\n",
    "data_cleaned = pd.read_csv('data/data_cleaned.csv')\n",
    "data_feature = data_cleaned.drop(columns=['TOTAL_DELAY', 'DEP_DEL15'])\n",
    "data_target = data_cleaned['DEP_DEL15']"
   ]
  },
  {
   "cell_type": "code",
   "execution_count": 3,
   "metadata": {},
   "outputs": [],
   "source": [
    "data_encoded_scaled = data_encoded_scaled.drop(columns=['DEP_DEL15'])"
   ]
  },
  {
   "cell_type": "code",
   "execution_count": 4,
   "metadata": {},
   "outputs": [
    {
     "name": "stdout",
     "output_type": "stream",
     "text": [
      "27.968432919954903\n"
     ]
    }
   ],
   "source": [
    "sequence_days = 7\n",
    "daily_counts = data_feature.groupby(['MONTH', 'DAY_OF_MONTH', 'DEPARTING_AIRPORT']).size()\n",
    "average_rows = daily_counts.mean()\n",
    "\n",
    "print(average_rows*sequence_days)"
   ]
  },
  {
   "cell_type": "code",
   "execution_count": 5,
   "metadata": {},
   "outputs": [],
   "source": [
    "data_full = data_encoded_scaled.assign(TARGET=data_target.values)"
   ]
  },
  {
   "cell_type": "code",
   "execution_count": 6,
   "metadata": {},
   "outputs": [
    {
     "name": "stdout",
     "output_type": "stream",
     "text": [
      "   MONTH  DAY_OF_MONTH  DAY_OF_WEEK  DEP_TIME_BLK  DISTANCE_GROUP  \\\n",
      "0    0.0           0.0     0.166667      0.166667        0.428571   \n",
      "1    0.0           0.0     0.166667      0.166667        0.428571   \n",
      "2    0.0           0.0     0.166667      0.166667        0.428571   \n",
      "3    0.0           0.0     0.166667      0.166667        0.428571   \n",
      "4    0.0           0.0     0.166667      0.166667        0.285714   \n",
      "\n",
      "   SEGMENT_NUMBER  CONCURRENT_FLIGHTS  NUMBER_OF_SEATS  AIRPORT_FLIGHTS_MONTH  \\\n",
      "0           0.000            0.098592              1.0               0.115453   \n",
      "1           0.000            0.098592              1.0               0.115453   \n",
      "2           0.000            0.112676              1.0               0.111384   \n",
      "3           0.000            0.267606              1.0               0.333661   \n",
      "4           0.125            0.042254              1.0               0.028528   \n",
      "\n",
      "   AIRLINE_FLIGHTS_MONTH  ...  PREVIOUS_AIRPORT_4  PREVIOUS_AIRPORT_5  \\\n",
      "0               0.183515  ...                 0.0                 0.0   \n",
      "1               0.183515  ...                 0.0                 0.0   \n",
      "2               0.183515  ...                 0.0                 0.0   \n",
      "3               0.183515  ...                 0.0                 0.0   \n",
      "4               0.183515  ...                 0.0                 1.0   \n",
      "\n",
      "   PREVIOUS_AIRPORT_6  PRCP  SNOW  SNWD      TMAX      AWND  RESIDUALS  TARGET  \n",
      "0                 1.0   0.0   0.0   0.0  0.353982  0.198638   0.052138       0  \n",
      "1                 1.0   0.0   0.0   0.0  0.353982  0.198638   0.052775       0  \n",
      "2                 1.0   0.0   0.0   0.0  0.451327  0.172291   0.051816       0  \n",
      "3                 1.0   0.0   0.0   0.0  0.699115  0.370930   0.051928       0  \n",
      "4                 0.0   0.0   0.0   0.0  0.460177  0.178804   0.051987       0  \n",
      "\n",
      "[5 rows x 34 columns]\n"
     ]
    }
   ],
   "source": [
    "print(data_full.head())"
   ]
  },
  {
   "cell_type": "code",
   "execution_count": 7,
   "metadata": {},
   "outputs": [
    {
     "name": "stdout",
     "output_type": "stream",
     "text": [
      "Input sequences shape: (41100, 28, 33)\n",
      "Target values shape: (41100,)\n"
     ]
    }
   ],
   "source": [
    "import numpy as np\n",
    "\n",
    "sequence_length = int(round(average_rows*sequence_days))\n",
    "\n",
    "unique_dep_airport = data_feature['DEPARTING_AIRPORT'].unique()\n",
    "unique_flight_number = data_feature['FLIGHT_NUMBER'].unique()\n",
    "\n",
    "X_sequences = []\n",
    "y_targets = []\n",
    "\n",
    "for dep_airport in unique_dep_airport:\n",
    "    flight_data = data_full[data_feature['DEPARTING_AIRPORT'] == dep_airport]\n",
    "    flight_data_values = flight_data.iloc[:, :-1].values\n",
    "    flight_data_target = flight_data.iloc[:, -1].values\n",
    "    for i in range(len(flight_data) - sequence_length):\n",
    "        X_sequences.append(flight_data_values[i:i+sequence_length])\n",
    "        y_targets.append(flight_data_target[i+sequence_length])\n",
    "\n",
    "X_sequences = np.array(X_sequences)\n",
    "y_targets = np.array(y_targets)\n",
    "\n",
    "print(\"Input sequences shape:\", X_sequences.shape)\n",
    "print(\"Target values shape:\", y_targets.shape)"
   ]
  },
  {
   "cell_type": "code",
   "execution_count": 8,
   "metadata": {},
   "outputs": [],
   "source": [
    "from sklearn.model_selection import train_test_split\n",
    "\n",
    "data = list(zip(X_sequences, y_targets))\n",
    "\n",
    "# Shuffle the data\n",
    "np.random.shuffle(data)\n",
    "\n",
    "# Split the data into training and test sets\n",
    "train_data, test_data = train_test_split(data, test_size=0.2)\n",
    "\n",
    "# Separate the sequences and targets\n",
    "X_train, y_train = zip(*train_data)\n",
    "X_test, y_test = zip(*test_data)\n",
    "\n",
    "# Convert the results back to numpy arrays\n",
    "X_train = np.array(X_train)\n",
    "y_train = np.array(y_train)\n",
    "X_test = np.array(X_test)\n",
    "y_test = np.array(y_test)"
   ]
  },
  {
   "cell_type": "code",
   "execution_count": 9,
   "metadata": {},
   "outputs": [
    {
     "name": "stdout",
     "output_type": "stream",
     "text": [
      "WARNING:tensorflow:From e:\\Semester 3\\Deep Learning\\flight_delay\\venv\\lib\\site-packages\\keras\\src\\losses.py:2976: The name tf.losses.sparse_softmax_cross_entropy is deprecated. Please use tf.compat.v1.losses.sparse_softmax_cross_entropy instead.\n",
      "\n"
     ]
    }
   ],
   "source": [
    "from tensorflow.compat.v1.keras.models import Sequential\n",
    "from tensorflow.compat.v1.keras.layers import GRU, Dense\n",
    "from tensorflow.keras.metrics import Recall\n",
    "from keras import regularizers\n",
    "from keras.callbacks import EarlyStopping, ModelCheckpoint\n",
    "from keras.models import load_model\n",
    "from sklearn.utils.class_weight import compute_class_weight\n",
    "from keras.optimizers import Adam\n",
    "import numpy as np\n",
    "\n",
    "timesteps = X_train.shape[1]\n",
    "input_dim = X_train.shape[2]\n",
    "\n",
    "weights = compute_class_weight(class_weight = 'balanced', classes = np.unique(y_train) , y = y_train)\n",
    "class_weights = dict(zip(np.unique(y_train), weights))"
   ]
  },
  {
   "cell_type": "code",
   "execution_count": 10,
   "metadata": {},
   "outputs": [
    {
     "name": "stdout",
     "output_type": "stream",
     "text": [
      "WARNING:tensorflow:From e:\\Semester 3\\Deep Learning\\flight_delay\\venv\\lib\\site-packages\\keras\\src\\backend.py:873: The name tf.get_default_graph is deprecated. Please use tf.compat.v1.get_default_graph instead.\n",
      "\n",
      "Epoch 1/300\n",
      "WARNING:tensorflow:From e:\\Semester 3\\Deep Learning\\flight_delay\\venv\\lib\\site-packages\\keras\\src\\utils\\tf_utils.py:492: The name tf.ragged.RaggedTensorValue is deprecated. Please use tf.compat.v1.ragged.RaggedTensorValue instead.\n",
      "\n",
      "WARNING:tensorflow:From e:\\Semester 3\\Deep Learning\\flight_delay\\venv\\lib\\site-packages\\keras\\src\\engine\\base_layer_utils.py:384: The name tf.executing_eagerly_outside_functions is deprecated. Please use tf.compat.v1.executing_eagerly_outside_functions instead.\n",
      "\n",
      "816/822 [============================>.] - ETA: 0s - loss: 1.2167 - accuracy: 0.4699 - recall: 0.6042\n",
      "Epoch 1: val_loss improved from inf to 0.97074, saving model to model\\best_model_hybrid_GRUs.h5\n",
      "822/822 [==============================] - 7s 7ms/step - loss: 1.2153 - accuracy: 0.4711 - recall: 0.6025 - val_loss: 0.9707 - val_accuracy: 0.6613 - val_recall: 0.3699\n",
      "Epoch 2/300\n",
      " 19/822 [..............................] - ETA: 4s - loss: 1.0479 - accuracy: 0.5954 - recall: 0.3906"
     ]
    },
    {
     "name": "stderr",
     "output_type": "stream",
     "text": [
      "e:\\Semester 3\\Deep Learning\\flight_delay\\venv\\lib\\site-packages\\keras\\src\\engine\\training.py:3103: UserWarning: You are saving your model as an HDF5 file via `model.save()`. This file format is considered legacy. We recommend using instead the native Keras format, e.g. `model.save('my_model.keras')`.\n",
      "  saving_api.save_model(\n"
     ]
    },
    {
     "name": "stdout",
     "output_type": "stream",
     "text": [
      "815/822 [============================>.] - ETA: 0s - loss: 0.8999 - accuracy: 0.5438 - recall: 0.5644\n",
      "Epoch 2: val_loss improved from 0.97074 to 0.81017, saving model to model\\best_model_hybrid_GRUs.h5\n",
      "822/822 [==============================] - 5s 6ms/step - loss: 0.8991 - accuracy: 0.5443 - recall: 0.5643 - val_loss: 0.8102 - val_accuracy: 0.5858 - val_recall: 0.5705\n",
      "Epoch 3/300\n",
      "819/822 [============================>.] - ETA: 0s - loss: 0.7839 - accuracy: 0.5411 - recall: 0.5843\n",
      "Epoch 3: val_loss improved from 0.81017 to 0.76063, saving model to model\\best_model_hybrid_GRUs.h5\n",
      "822/822 [==============================] - 5s 6ms/step - loss: 0.7838 - accuracy: 0.5408 - recall: 0.5843 - val_loss: 0.7606 - val_accuracy: 0.5220 - val_recall: 0.6801\n",
      "Epoch 4/300\n",
      "814/822 [============================>.] - ETA: 0s - loss: 0.7399 - accuracy: 0.5404 - recall: 0.5869\n",
      "Epoch 4: val_loss improved from 0.76063 to 0.73710, saving model to model\\best_model_hybrid_GRUs.h5\n",
      "822/822 [==============================] - 5s 6ms/step - loss: 0.7405 - accuracy: 0.5398 - recall: 0.5872 - val_loss: 0.7371 - val_accuracy: 0.5144 - val_recall: 0.6930\n",
      "Epoch 5/300\n",
      "822/822 [==============================] - ETA: 0s - loss: 0.7211 - accuracy: 0.5333 - recall: 0.6164\n",
      "Epoch 5: val_loss improved from 0.73710 to 0.71012, saving model to model\\best_model_hybrid_GRUs.h5\n",
      "822/822 [==============================] - 5s 6ms/step - loss: 0.7211 - accuracy: 0.5333 - recall: 0.6164 - val_loss: 0.7101 - val_accuracy: 0.5655 - val_recall: 0.6309\n",
      "Epoch 6/300\n",
      "820/822 [============================>.] - ETA: 0s - loss: 0.7118 - accuracy: 0.5395 - recall: 0.5943\n",
      "Epoch 6: val_loss improved from 0.71012 to 0.70083, saving model to model\\best_model_hybrid_GRUs.h5\n",
      "822/822 [==============================] - 5s 6ms/step - loss: 0.7116 - accuracy: 0.5395 - recall: 0.5940 - val_loss: 0.7008 - val_accuracy: 0.5703 - val_recall: 0.6237\n",
      "Epoch 7/300\n",
      "820/822 [============================>.] - ETA: 0s - loss: 0.7051 - accuracy: 0.5429 - recall: 0.6089\n",
      "Epoch 7: val_loss did not improve from 0.70083\n",
      "822/822 [==============================] - 5s 6ms/step - loss: 0.7051 - accuracy: 0.5430 - recall: 0.6090 - val_loss: 0.7124 - val_accuracy: 0.5138 - val_recall: 0.6922\n",
      "Epoch 8/300\n",
      "818/822 [============================>.] - ETA: 0s - loss: 0.7015 - accuracy: 0.5355 - recall: 0.6142\n",
      "Epoch 8: val_loss improved from 0.70083 to 0.69301, saving model to model\\best_model_hybrid_GRUs.h5\n",
      "822/822 [==============================] - 5s 6ms/step - loss: 0.7011 - accuracy: 0.5355 - recall: 0.6142 - val_loss: 0.6930 - val_accuracy: 0.5666 - val_recall: 0.6245\n",
      "Epoch 9/300\n",
      "817/822 [============================>.] - ETA: 0s - loss: 0.6965 - accuracy: 0.5483 - recall: 0.6080\n",
      "Epoch 9: val_loss did not improve from 0.69301\n",
      "822/822 [==============================] - 5s 6ms/step - loss: 0.6962 - accuracy: 0.5481 - recall: 0.6084 - val_loss: 0.7028 - val_accuracy: 0.5309 - val_recall: 0.6737\n",
      "Epoch 10/300\n",
      "814/822 [============================>.] - ETA: 0s - loss: 0.6945 - accuracy: 0.5412 - recall: 0.6147\n",
      "Epoch 10: val_loss improved from 0.69301 to 0.68130, saving model to model\\best_model_hybrid_GRUs.h5\n",
      "822/822 [==============================] - 5s 6ms/step - loss: 0.6942 - accuracy: 0.5419 - recall: 0.6154 - val_loss: 0.6813 - val_accuracy: 0.5923 - val_recall: 0.5898\n",
      "Epoch 11/300\n",
      "816/822 [============================>.] - ETA: 0s - loss: 0.6927 - accuracy: 0.5401 - recall: 0.6097\n",
      "Epoch 11: val_loss improved from 0.68130 to 0.67379, saving model to model\\best_model_hybrid_GRUs.h5\n",
      "822/822 [==============================] - 5s 6ms/step - loss: 0.6925 - accuracy: 0.5404 - recall: 0.6094 - val_loss: 0.6738 - val_accuracy: 0.6069 - val_recall: 0.5633\n",
      "Epoch 12/300\n",
      "821/822 [============================>.] - ETA: 0s - loss: 0.6909 - accuracy: 0.5389 - recall: 0.6053\n",
      "Epoch 12: val_loss did not improve from 0.67379\n",
      "822/822 [==============================] - 5s 6ms/step - loss: 0.6910 - accuracy: 0.5390 - recall: 0.6049 - val_loss: 0.6777 - val_accuracy: 0.5849 - val_recall: 0.6003\n",
      "Epoch 13/300\n",
      "816/822 [============================>.] - ETA: 0s - loss: 0.6896 - accuracy: 0.5412 - recall: 0.6093\n",
      "Epoch 13: val_loss improved from 0.67379 to 0.67308, saving model to model\\best_model_hybrid_GRUs.h5\n",
      "822/822 [==============================] - 5s 6ms/step - loss: 0.6897 - accuracy: 0.5413 - recall: 0.6092 - val_loss: 0.6731 - val_accuracy: 0.5970 - val_recall: 0.5794\n",
      "Epoch 14/300\n",
      "815/822 [============================>.] - ETA: 0s - loss: 0.6877 - accuracy: 0.5398 - recall: 0.6115\n",
      "Epoch 14: val_loss improved from 0.67308 to 0.67068, saving model to model\\best_model_hybrid_GRUs.h5\n",
      "822/822 [==============================] - 5s 7ms/step - loss: 0.6881 - accuracy: 0.5405 - recall: 0.6108 - val_loss: 0.6707 - val_accuracy: 0.6033 - val_recall: 0.5770\n",
      "Epoch 15/300\n",
      "815/822 [============================>.] - ETA: 0s - loss: 0.6873 - accuracy: 0.5508 - recall: 0.5876\n",
      "Epoch 15: val_loss did not improve from 0.67068\n",
      "822/822 [==============================] - 5s 6ms/step - loss: 0.6874 - accuracy: 0.5501 - recall: 0.5890 - val_loss: 0.7142 - val_accuracy: 0.4668 - val_recall: 0.7583\n",
      "Epoch 16/300\n",
      "818/822 [============================>.] - ETA: 0s - loss: 0.6871 - accuracy: 0.5341 - recall: 0.6254\n",
      "Epoch 16: val_loss did not improve from 0.67068\n",
      "822/822 [==============================] - 7s 9ms/step - loss: 0.6867 - accuracy: 0.5344 - recall: 0.6255 - val_loss: 0.6814 - val_accuracy: 0.5648 - val_recall: 0.6221\n",
      "Epoch 17/300\n",
      "817/822 [============================>.] - ETA: 0s - loss: 0.6863 - accuracy: 0.5391 - recall: 0.6006\n",
      "Epoch 17: val_loss did not improve from 0.67068\n",
      "822/822 [==============================] - 7s 8ms/step - loss: 0.6859 - accuracy: 0.5392 - recall: 0.6013 - val_loss: 0.6721 - val_accuracy: 0.5887 - val_recall: 0.5939\n",
      "Epoch 18/300\n",
      "815/822 [============================>.] - ETA: 0s - loss: 0.6856 - accuracy: 0.5500 - recall: 0.5956\n",
      "Epoch 18: val_loss did not improve from 0.67068\n",
      "822/822 [==============================] - 5s 6ms/step - loss: 0.6854 - accuracy: 0.5496 - recall: 0.5958 - val_loss: 0.6877 - val_accuracy: 0.5397 - val_recall: 0.6535\n",
      "Epoch 19/300\n",
      "813/822 [============================>.] - ETA: 0s - loss: 0.6856 - accuracy: 0.5456 - recall: 0.6050\n",
      "Epoch 19: val_loss did not improve from 0.67068\n",
      "822/822 [==============================] - 5s 6ms/step - loss: 0.6856 - accuracy: 0.5446 - recall: 0.6047 - val_loss: 0.6965 - val_accuracy: 0.5108 - val_recall: 0.6946\n",
      "Epoch 20/300\n",
      "820/822 [============================>.] - ETA: 0s - loss: 0.6837 - accuracy: 0.5434 - recall: 0.6104\n",
      "Epoch 20: val_loss improved from 0.67068 to 0.65687, saving model to model\\best_model_hybrid_GRUs.h5\n",
      "822/822 [==============================] - 5s 6ms/step - loss: 0.6839 - accuracy: 0.5437 - recall: 0.6102 - val_loss: 0.6569 - val_accuracy: 0.6297 - val_recall: 0.5157\n",
      "Epoch 21/300\n",
      "821/822 [============================>.] - ETA: 0s - loss: 0.6850 - accuracy: 0.5482 - recall: 0.5902\n",
      "Epoch 21: val_loss did not improve from 0.65687\n",
      "822/822 [==============================] - 5s 6ms/step - loss: 0.6850 - accuracy: 0.5482 - recall: 0.5900 - val_loss: 0.6815 - val_accuracy: 0.5573 - val_recall: 0.6334\n",
      "Epoch 22/300\n",
      "814/822 [============================>.] - ETA: 0s - loss: 0.6831 - accuracy: 0.5436 - recall: 0.5983\n",
      "Epoch 22: val_loss did not improve from 0.65687\n",
      "822/822 [==============================] - 5s 6ms/step - loss: 0.6840 - accuracy: 0.5431 - recall: 0.5981 - val_loss: 0.6791 - val_accuracy: 0.5637 - val_recall: 0.6253\n",
      "Epoch 23/300\n",
      "814/822 [============================>.] - ETA: 0s - loss: 0.6830 - accuracy: 0.5448 - recall: 0.6056\n",
      "Epoch 23: val_loss did not improve from 0.65687\n",
      "822/822 [==============================] - 5s 6ms/step - loss: 0.6835 - accuracy: 0.5446 - recall: 0.6049 - val_loss: 0.6848 - val_accuracy: 0.5449 - val_recall: 0.6551\n",
      "Epoch 24/300\n",
      "817/822 [============================>.] - ETA: 0s - loss: 0.6835 - accuracy: 0.5391 - recall: 0.6054\n",
      "Epoch 24: val_loss did not improve from 0.65687\n",
      "822/822 [==============================] - 5s 6ms/step - loss: 0.6837 - accuracy: 0.5384 - recall: 0.6045 - val_loss: 0.6833 - val_accuracy: 0.5494 - val_recall: 0.6446\n",
      "Epoch 25/300\n",
      "821/822 [============================>.] - ETA: 0s - loss: 0.6822 - accuracy: 0.5456 - recall: 0.6070\n",
      "Epoch 25: val_loss did not improve from 0.65687\n",
      "822/822 [==============================] - 5s 6ms/step - loss: 0.6821 - accuracy: 0.5458 - recall: 0.6067 - val_loss: 0.6778 - val_accuracy: 0.5675 - val_recall: 0.6237\n",
      "Epoch 26/300\n",
      "813/822 [============================>.] - ETA: 0s - loss: 0.6826 - accuracy: 0.5472 - recall: 0.5954\n",
      "Epoch 26: val_loss did not improve from 0.65687\n",
      "822/822 [==============================] - 5s 6ms/step - loss: 0.6831 - accuracy: 0.5462 - recall: 0.5954 - val_loss: 0.6985 - val_accuracy: 0.5030 - val_recall: 0.7115\n",
      "Epoch 27/300\n",
      "816/822 [============================>.] - ETA: 0s - loss: 0.6826 - accuracy: 0.5409 - recall: 0.6092\n",
      "Epoch 27: val_loss did not improve from 0.65687\n",
      "822/822 [==============================] - 5s 6ms/step - loss: 0.6825 - accuracy: 0.5407 - recall: 0.6092 - val_loss: 0.6859 - val_accuracy: 0.5371 - val_recall: 0.6583\n",
      "Epoch 28/300\n",
      "815/822 [============================>.] - ETA: 0s - loss: 0.6817 - accuracy: 0.5400 - recall: 0.6112\n",
      "Epoch 28: val_loss did not improve from 0.65687\n",
      "822/822 [==============================] - 5s 6ms/step - loss: 0.6818 - accuracy: 0.5402 - recall: 0.6108 - val_loss: 0.6678 - val_accuracy: 0.5931 - val_recall: 0.5858\n",
      "Epoch 29/300\n",
      "818/822 [============================>.] - ETA: 0s - loss: 0.6809 - accuracy: 0.5445 - recall: 0.5970\n",
      "Epoch 29: val_loss did not improve from 0.65687\n",
      "822/822 [==============================] - 5s 6ms/step - loss: 0.6812 - accuracy: 0.5443 - recall: 0.5964 - val_loss: 0.6739 - val_accuracy: 0.5754 - val_recall: 0.6124\n",
      "Epoch 30/300\n",
      "820/822 [============================>.] - ETA: 0s - loss: 0.6813 - accuracy: 0.5437 - recall: 0.6038\n",
      "Epoch 30: val_loss did not improve from 0.65687\n",
      "822/822 [==============================] - 5s 6ms/step - loss: 0.6813 - accuracy: 0.5439 - recall: 0.6035 - val_loss: 0.6671 - val_accuracy: 0.5952 - val_recall: 0.5826\n",
      "Epoch 31/300\n",
      "820/822 [============================>.] - ETA: 0s - loss: 0.6819 - accuracy: 0.5513 - recall: 0.5897\n",
      "Epoch 31: val_loss did not improve from 0.65687\n",
      "822/822 [==============================] - 5s 7ms/step - loss: 0.6820 - accuracy: 0.5513 - recall: 0.5894 - val_loss: 0.6827 - val_accuracy: 0.5449 - val_recall: 0.6438\n",
      "Epoch 32/300\n",
      "816/822 [============================>.] - ETA: 0s - loss: 0.6822 - accuracy: 0.5387 - recall: 0.6057\n",
      "Epoch 32: val_loss did not improve from 0.65687\n",
      "822/822 [==============================] - 5s 6ms/step - loss: 0.6825 - accuracy: 0.5381 - recall: 0.6051 - val_loss: 0.6783 - val_accuracy: 0.5550 - val_recall: 0.6269\n",
      "Epoch 33/300\n",
      "816/822 [============================>.] - ETA: 0s - loss: 0.6812 - accuracy: 0.5402 - recall: 0.6072\n",
      "Epoch 33: val_loss did not improve from 0.65687\n",
      "822/822 [==============================] - 5s 6ms/step - loss: 0.6813 - accuracy: 0.5401 - recall: 0.6072 - val_loss: 0.6789 - val_accuracy: 0.5541 - val_recall: 0.6366\n",
      "Epoch 34/300\n",
      "814/822 [============================>.] - ETA: 0s - loss: 0.6817 - accuracy: 0.5440 - recall: 0.6034\n",
      "Epoch 34: val_loss did not improve from 0.65687\n",
      "822/822 [==============================] - 5s 6ms/step - loss: 0.6810 - accuracy: 0.5441 - recall: 0.6041 - val_loss: 0.6791 - val_accuracy: 0.5610 - val_recall: 0.6317\n",
      "Epoch 35/300\n",
      "821/822 [============================>.] - ETA: 0s - loss: 0.6815 - accuracy: 0.5505 - recall: 0.5942\n",
      "Epoch 35: val_loss did not improve from 0.65687\n",
      "822/822 [==============================] - 5s 6ms/step - loss: 0.6816 - accuracy: 0.5504 - recall: 0.5942 - val_loss: 0.6976 - val_accuracy: 0.4986 - val_recall: 0.7115\n",
      "Epoch 36/300\n",
      "820/822 [============================>.] - ETA: 0s - loss: 0.6824 - accuracy: 0.5351 - recall: 0.6088\n",
      "Epoch 36: val_loss did not improve from 0.65687\n",
      "822/822 [==============================] - 5s 6ms/step - loss: 0.6824 - accuracy: 0.5353 - recall: 0.6086 - val_loss: 0.6658 - val_accuracy: 0.5949 - val_recall: 0.5866\n",
      "Epoch 37/300\n",
      "815/822 [============================>.] - ETA: 0s - loss: 0.6817 - accuracy: 0.5472 - recall: 0.5950\n",
      "Epoch 37: val_loss did not improve from 0.65687\n",
      "822/822 [==============================] - 5s 6ms/step - loss: 0.6815 - accuracy: 0.5464 - recall: 0.5950 - val_loss: 0.6877 - val_accuracy: 0.5303 - val_recall: 0.6817\n",
      "Epoch 38/300\n",
      "814/822 [============================>.] - ETA: 0s - loss: 0.6824 - accuracy: 0.5388 - recall: 0.6015\n",
      "Epoch 38: val_loss did not improve from 0.65687\n",
      "822/822 [==============================] - 5s 6ms/step - loss: 0.6819 - accuracy: 0.5387 - recall: 0.6019 - val_loss: 0.6855 - val_accuracy: 0.5350 - val_recall: 0.6688\n",
      "Epoch 39/300\n",
      "819/822 [============================>.] - ETA: 0s - loss: 0.6807 - accuracy: 0.5438 - recall: 0.6038\n",
      "Epoch 39: val_loss did not improve from 0.65687\n",
      "822/822 [==============================] - 5s 6ms/step - loss: 0.6810 - accuracy: 0.5436 - recall: 0.6041 - val_loss: 0.6898 - val_accuracy: 0.5225 - val_recall: 0.6817\n",
      "Epoch 40/300\n",
      "819/822 [============================>.] - ETA: 0s - loss: 0.6816 - accuracy: 0.5415 - recall: 0.6058\n",
      "Epoch 40: val_loss did not improve from 0.65687\n",
      "822/822 [==============================] - 5s 6ms/step - loss: 0.6813 - accuracy: 0.5416 - recall: 0.6055 - val_loss: 0.6852 - val_accuracy: 0.5353 - val_recall: 0.6728\n"
     ]
    },
    {
     "data": {
      "text/plain": [
       "<keras.src.callbacks.History at 0x2210813a2e0>"
      ]
     },
     "execution_count": 10,
     "metadata": {},
     "output_type": "execute_result"
    }
   ],
   "source": [
    "# Define the RNN model\n",
    "\n",
    "model = Sequential()\n",
    "\n",
    "model.add(GRU(32, input_shape=(timesteps, input_dim),\n",
    "                    kernel_regularizer=regularizers.l2(0.01),\n",
    "                    recurrent_regularizer=regularizers.l2(0.01),\n",
    "                    bias_regularizer=regularizers.l2(0.01),\n",
    "                     dropout=0.4, recurrent_dropout=0.4))\n",
    "\n",
    "model.add(Dense(1, activation='sigmoid'))\n",
    "\n",
    "opt = Adam(learning_rate=0.0001)\n",
    "\n",
    "# Compile the model\n",
    "model.compile(loss='binary_crossentropy', optimizer=opt, metrics=['accuracy', Recall()])\n",
    "\n",
    "\n",
    "# Define early stopping\n",
    "early_stopping = EarlyStopping(monitor='val_loss', patience=20)\n",
    "\n",
    "checkpoint = ModelCheckpoint('model/best_model_hybrid_GRUs.h5', monitor='val_loss', verbose=1, save_best_only=True, mode='min')\n",
    "\n",
    "# Train the model\n",
    "model.fit(X_train, y_train, epochs=300, batch_size=32, validation_split=0.2, callbacks=[early_stopping, checkpoint], class_weight=class_weights)"
   ]
  },
  {
   "cell_type": "code",
   "execution_count": 11,
   "metadata": {},
   "outputs": [
    {
     "name": "stdout",
     "output_type": "stream",
     "text": [
      "257/257 [==============================] - 1s 2ms/step\n",
      "      Prediction  Actual\n",
      "0       0.312500       0\n",
      "1       0.521785       0\n",
      "2       0.566728       0\n",
      "3       0.310020       0\n",
      "4       0.523246       0\n",
      "...          ...     ...\n",
      "8215    0.524940       0\n",
      "8216    0.532093       1\n",
      "8217    0.498396       0\n",
      "8218    0.490252       0\n",
      "8219    0.497601       0\n",
      "\n",
      "[8220 rows x 2 columns]\n"
     ]
    }
   ],
   "source": [
    "# Make predictions using the model\n",
    "best_model = load_model('model/best_model_hybrid_GRUs.h5')\n",
    "\n",
    "predictions = best_model.predict(X_test)\n",
    "\n",
    "# Compare the predictions with the actual values\n",
    "comparison = pd.DataFrame({'Prediction': predictions.flatten(), 'Actual': y_test})\n",
    "\n",
    "# Print the comparison\n",
    "print(comparison)\n",
    "predictions_labels = [1 if p > 0.5 else 0 for p in predictions.flatten()]"
   ]
  },
  {
   "cell_type": "code",
   "execution_count": 12,
   "metadata": {},
   "outputs": [
    {
     "data": {
      "image/png": "[encoded data removed]",
      "text/plain": [
       "<Figure size 1000x700 with 2 Axes>"
      ]
     },
     "metadata": {},
     "output_type": "display_data"
    }
   ],
   "source": [
    "from sklearn.metrics import confusion_matrix, classification_report\n",
    "import seaborn as sns\n",
    "\n",
    "cm = confusion_matrix(y_test, predictions_labels)\n",
    "plt.figure(figsize=(10, 7))\n",
    "sns.heatmap(cm, annot=True, fmt='d')\n",
    "plt.xlabel('Predicted')\n",
    "plt.ylabel('Truth')\n",
    "plt.show()"
   ]
  },
  {
   "cell_type": "code",
   "execution_count": 13,
   "metadata": {},
   "outputs": [
    {
     "name": "stdout",
     "output_type": "stream",
     "text": [
      "              precision    recall  f1-score   support\n",
      "\n",
      "           0       0.86      0.64      0.73      6693\n",
      "           1       0.25      0.53      0.34      1527\n",
      "\n",
      "    accuracy                           0.62      8220\n",
      "   macro avg       0.55      0.58      0.54      8220\n",
      "weighted avg       0.74      0.62      0.66      8220\n",
      "\n"
     ]
    }
   ],
   "source": [
    "report = classification_report(y_test, predictions_labels, output_dict=True)\n",
    "print(classification_report(y_test, predictions_labels))\n",
    "df = pd.DataFrame(report).transpose()\n",
    "df.to_csv('result/hybrid_GRUs.csv')"
   ]
  }
 ],
 "metadata": {
  "kernelspec": {
   "display_name": "venv",
   "language": "python",
   "name": "python3"
  },
  "language_info": {
   "codemirror_mode": {
    "name": "ipython",
    "version": 3
   },
   "file_extension": ".py",
   "mimetype": "text/x-python",
   "name": "python",
   "nbconvert_exporter": "python",
   "pygments_lexer": "ipython3",
   "version": "3.9.6"
  }
 },
 "nbformat": 4,
 "nbformat_minor": 2
}
