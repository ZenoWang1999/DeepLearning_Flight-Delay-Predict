{
 "cells": [
  {
   "cell_type": "code",
   "execution_count": 41,
   "id": "42c38f0b",
   "metadata": {},
   "outputs": [],
   "source": [
    "import pandas as pd\n",
    "import matplotlib.pyplot as plt"
   ]
  },
  {
   "cell_type": "code",
   "execution_count": 42,
   "id": "2a63ad0a",
   "metadata": {},
   "outputs": [],
   "source": [
    "data_encoded_scaled = pd.read_csv('data/data_encoded_scaled.csv')\n",
    "data_cleaned = pd.read_csv('data/data_cleaned.csv')\n",
    "data_feature = data_cleaned.drop(columns=['TOTAL_DELAY', 'DEP_DEL15'])\n",
    "data_target = data_cleaned['DEP_DEL15']"
   ]
  },
  {
   "cell_type": "code",
   "execution_count": 43,
   "id": "cd8c93f0",
   "metadata": {},
   "outputs": [],
   "source": [
    "data_encoded_scaled = data_encoded_scaled.drop(columns=['DEP_DEL15'])"
   ]
  },
  {
   "cell_type": "code",
   "execution_count": 44,
   "id": "887cb4b3",
   "metadata": {},
   "outputs": [
    {
     "name": "stdout",
     "output_type": "stream",
     "text": [
      "27.968432919954903\n"
     ]
    }
   ],
   "source": [
    "sequence_days = 7\n",
    "daily_counts = data_feature.groupby(['MONTH', 'DAY_OF_MONTH', 'DEPARTING_AIRPORT']).size() # 一天一个机场的航班数\n",
    "average_rows = daily_counts.mean()\n",
    "\n",
    "print(average_rows*sequence_days)"
   ]
  },
  {
   "cell_type": "code",
   "execution_count": 45,
   "id": "48a73f7b",
   "metadata": {},
   "outputs": [],
   "source": [
    "data_full = data_encoded_scaled.assign(TARGET=data_target.values)"
   ]
  },
  {
   "cell_type": "code",
   "execution_count": 46,
   "id": "17149eb2",
   "metadata": {},
   "outputs": [
    {
     "name": "stdout",
     "output_type": "stream",
     "text": [
      "   MONTH  DAY_OF_MONTH  DAY_OF_WEEK  DEP_TIME_BLK  DISTANCE_GROUP  \\\n",
      "0    0.0           0.0     0.166667      0.166667        0.428571   \n",
      "1    0.0           0.0     0.166667      0.166667        0.428571   \n",
      "2    0.0           0.0     0.166667      0.166667        0.428571   \n",
      "3    0.0           0.0     0.166667      0.166667        0.428571   \n",
      "4    0.0           0.0     0.166667      0.166667        0.285714   \n",
      "\n",
      "   SEGMENT_NUMBER  CONCURRENT_FLIGHTS  NUMBER_OF_SEATS  AIRPORT_FLIGHTS_MONTH  \\\n",
      "0           0.000            0.098592              1.0               0.115453   \n",
      "1           0.000            0.098592              1.0               0.115453   \n",
      "2           0.000            0.112676              1.0               0.111384   \n",
      "3           0.000            0.267606              1.0               0.333661   \n",
      "4           0.125            0.042254              1.0               0.028528   \n",
      "\n",
      "   AIRLINE_FLIGHTS_MONTH  ...  PREVIOUS_AIRPORT_4  PREVIOUS_AIRPORT_5  \\\n",
      "0               0.183515  ...                 0.0                 0.0   \n",
      "1               0.183515  ...                 0.0                 0.0   \n",
      "2               0.183515  ...                 0.0                 0.0   \n",
      "3               0.183515  ...                 0.0                 0.0   \n",
      "4               0.183515  ...                 0.0                 1.0   \n",
      "\n",
      "   PREVIOUS_AIRPORT_6  PRCP  SNOW  SNWD      TMAX      AWND  RESIDUALS  TARGET  \n",
      "0                 1.0   0.0   0.0   0.0  0.353982  0.198638   0.052138       0  \n",
      "1                 1.0   0.0   0.0   0.0  0.353982  0.198638   0.052775       0  \n",
      "2                 1.0   0.0   0.0   0.0  0.451327  0.172291   0.051816       0  \n",
      "3                 1.0   0.0   0.0   0.0  0.699115  0.370930   0.051928       0  \n",
      "4                 0.0   0.0   0.0   0.0  0.460177  0.178804   0.051987       0  \n",
      "\n",
      "[5 rows x 34 columns]\n"
     ]
    }
   ],
   "source": [
    "print(data_full.head())"
   ]
  },
  {
   "cell_type": "code",
   "execution_count": 47,
   "id": "8e048c7d",
   "metadata": {},
   "outputs": [
    {
     "name": "stdout",
     "output_type": "stream",
     "text": [
      "Input sequences shape: (41100, 28, 33)\n",
      "Target values shape: (41100,)\n"
     ]
    }
   ],
   "source": [
    "import numpy as np\n",
    "\n",
    "sequence_length = int(round(average_rows*sequence_days))\n",
    "\n",
    "unique_dep_airport = data_feature['DEPARTING_AIRPORT'].unique()\n",
    "unique_flight_number = data_feature['FLIGHT_NUMBER'].unique()\n",
    "\n",
    "X_sequences = []\n",
    "y_targets = []\n",
    "\n",
    "for dep_airport in unique_dep_airport:\n",
    "    flight_data = data_full[data_feature['DEPARTING_AIRPORT'] == dep_airport]\n",
    "    flight_data_values = flight_data.iloc[:, :-1].values\n",
    "    flight_data_target = flight_data.iloc[:, -1].values\n",
    "    for i in range(len(flight_data) - sequence_length):\n",
    "        X_sequences.append(flight_data_values[i:i+sequence_length])\n",
    "        y_targets.append(flight_data_target[i+sequence_length])\n",
    "\n",
    "X_sequences = np.array(X_sequences)\n",
    "y_targets = np.array(y_targets)\n",
    "\n",
    "print(\"Input sequences shape:\", X_sequences.shape)\n",
    "print(\"Target values shape:\", y_targets.shape)"
   ]
  },
  {
   "cell_type": "code",
   "execution_count": 48,
   "id": "b4e5c6c2",
   "metadata": {},
   "outputs": [],
   "source": [
    "from sklearn.model_selection import train_test_split\n",
    "\n",
    "data = list(zip(X_sequences, y_targets))\n",
    "\n",
    "# Shuffle the data\n",
    "np.random.shuffle(data)\n",
    "\n",
    "# Split the data into training and test sets\n",
    "train_data, test_data = train_test_split(data, test_size=0.2)\n",
    "\n",
    "# Separate the sequences and targets\n",
    "X_train, y_train = zip(*train_data)\n",
    "X_test, y_test = zip(*test_data)\n",
    "\n",
    "# Convert the results back to numpy arrays\n",
    "X_train = np.array(X_train)\n",
    "y_train = np.array(y_train)\n",
    "X_test = np.array(X_test)\n",
    "y_test = np.array(y_test)"
   ]
  },
  {
   "cell_type": "code",
   "execution_count": 49,
   "id": "719e17d4",
   "metadata": {},
   "outputs": [],
   "source": [
    "from tensorflow.compat.v1.keras.models import Sequential\n",
    "from tensorflow.compat.v1.keras.layers import SimpleRNN, Dense\n",
    "from tensorflow.keras.metrics import Recall\n",
    "from keras import regularizers\n",
    "from keras.callbacks import EarlyStopping, ModelCheckpoint\n",
    "from keras.models import load_model\n",
    "from sklearn.utils.class_weight import compute_class_weight\n",
    "from keras.optimizers import Adam\n",
    "import numpy as np\n",
    "\n",
    "timesteps = X_train.shape[1]\n",
    "input_dim = X_train.shape[2]\n",
    "\n",
    "weights = compute_class_weight(class_weight = 'balanced', classes = np.unique(y_train) , y = y_train)\n",
    "class_weights = dict(zip(np.unique(y_train), weights))"
   ]
  },
  {
   "cell_type": "code",
   "execution_count": 50,
   "id": "28047b63",
   "metadata": {
    "scrolled": true
   },
   "outputs": [
    {
     "name": "stdout",
     "output_type": "stream",
     "text": [
      "Epoch 1/300\n",
      "819/822 [============================>.] - ETA: 0s - loss: 1.5148 - accuracy: 0.5364 - recall_1: 0.5297\n",
      "Epoch 1: val_loss improved from inf to 1.25921, saving model to /Users/xiaozhangyu/desktop/best_model_hybrid_lstm.h5\n",
      "822/822 [==============================] - 15s 15ms/step - loss: 1.5141 - accuracy: 0.5366 - recall_1: 0.5300 - val_loss: 1.2592 - val_accuracy: 0.5228 - val_recall_1: 0.5847\n",
      "Epoch 2/300\n",
      "  7/822 [..............................] - ETA: 15s - loss: 1.2964 - accuracy: 0.5312 - recall_1: 0.5417"
     ]
    },
    {
     "name": "stderr",
     "output_type": "stream",
     "text": [
      "/Users/xiaozhangyu/anaconda3/lib/python3.11/site-packages/keras/src/engine/training.py:3103: UserWarning: You are saving your model as an HDF5 file via `model.save()`. This file format is considered legacy. We recommend using instead the native Keras format, e.g. `model.save('my_model.keras')`.\n",
      "  saving_api.save_model(\n"
     ]
    },
    {
     "name": "stdout",
     "output_type": "stream",
     "text": [
      "821/822 [============================>.] - ETA: 0s - loss: 1.1275 - accuracy: 0.5258 - recall_1: 0.6050\n",
      "Epoch 2: val_loss improved from 1.25921 to 1.02041, saving model to /Users/xiaozhangyu/desktop/best_model_hybrid_lstm.h5\n",
      "822/822 [==============================] - 12s 15ms/step - loss: 1.1273 - accuracy: 0.5257 - recall_1: 0.6048 - val_loss: 1.0204 - val_accuracy: 0.5405 - val_recall_1: 0.5855\n",
      "Epoch 3/300\n",
      "819/822 [============================>.] - ETA: 0s - loss: 0.9717 - accuracy: 0.5341 - recall_1: 0.6171\n",
      "Epoch 3: val_loss improved from 1.02041 to 0.93209, saving model to /Users/xiaozhangyu/desktop/best_model_hybrid_lstm.h5\n",
      "822/822 [==============================] - 12s 15ms/step - loss: 0.9721 - accuracy: 0.5342 - recall_1: 0.6169 - val_loss: 0.9321 - val_accuracy: 0.5046 - val_recall_1: 0.6629\n",
      "Epoch 4/300\n",
      "822/822 [==============================] - ETA: 0s - loss: 0.8963 - accuracy: 0.5310 - recall_1: 0.6337\n",
      "Epoch 4: val_loss improved from 0.93209 to 0.86780, saving model to /Users/xiaozhangyu/desktop/best_model_hybrid_lstm.h5\n",
      "822/822 [==============================] - 12s 15ms/step - loss: 0.8963 - accuracy: 0.5310 - recall_1: 0.6337 - val_loss: 0.8678 - val_accuracy: 0.5436 - val_recall_1: 0.6173\n",
      "Epoch 5/300\n",
      "821/822 [============================>.] - ETA: 0s - loss: 0.8490 - accuracy: 0.5417 - recall_1: 0.6162\n",
      "Epoch 5: val_loss improved from 0.86780 to 0.84048, saving model to /Users/xiaozhangyu/desktop/best_model_hybrid_lstm.h5\n",
      "822/822 [==============================] - 12s 15ms/step - loss: 0.8492 - accuracy: 0.5416 - recall_1: 0.6157 - val_loss: 0.8405 - val_accuracy: 0.5023 - val_recall_1: 0.6832\n",
      "Epoch 6/300\n",
      "819/822 [============================>.] - ETA: 0s - loss: 0.8128 - accuracy: 0.5377 - recall_1: 0.6276\n",
      "Epoch 6: val_loss improved from 0.84048 to 0.79477, saving model to /Users/xiaozhangyu/desktop/best_model_hybrid_lstm.h5\n",
      "822/822 [==============================] - 12s 15ms/step - loss: 0.8130 - accuracy: 0.5378 - recall_1: 0.6276 - val_loss: 0.7948 - val_accuracy: 0.5485 - val_recall_1: 0.6205\n",
      "Epoch 7/300\n",
      "820/822 [============================>.] - ETA: 0s - loss: 0.7833 - accuracy: 0.5356 - recall_1: 0.6299\n",
      "Epoch 7: val_loss improved from 0.79477 to 0.75936, saving model to /Users/xiaozhangyu/desktop/best_model_hybrid_lstm.h5\n",
      "822/822 [==============================] - 12s 15ms/step - loss: 0.7832 - accuracy: 0.5356 - recall_1: 0.6292 - val_loss: 0.7594 - val_accuracy: 0.5687 - val_recall_1: 0.5814\n",
      "Epoch 8/300\n",
      "821/822 [============================>.] - ETA: 0s - loss: 0.7593 - accuracy: 0.5383 - recall_1: 0.6245\n",
      "Epoch 8: val_loss improved from 0.75936 to 0.75449, saving model to /Users/xiaozhangyu/desktop/best_model_hybrid_lstm.h5\n",
      "822/822 [==============================] - 13s 15ms/step - loss: 0.7592 - accuracy: 0.5385 - recall_1: 0.6248 - val_loss: 0.7545 - val_accuracy: 0.5213 - val_recall_1: 0.6572\n",
      "Epoch 9/300\n",
      "820/822 [============================>.] - ETA: 0s - loss: 0.7384 - accuracy: 0.5362 - recall_1: 0.6423\n",
      "Epoch 9: val_loss improved from 0.75449 to 0.71301, saving model to /Users/xiaozhangyu/desktop/best_model_hybrid_lstm.h5\n",
      "822/822 [==============================] - 12s 15ms/step - loss: 0.7384 - accuracy: 0.5364 - recall_1: 0.6423 - val_loss: 0.7130 - val_accuracy: 0.5874 - val_recall_1: 0.5448\n",
      "Epoch 10/300\n",
      "821/822 [============================>.] - ETA: 0s - loss: 0.7235 - accuracy: 0.5471 - recall_1: 0.6138\n",
      "Epoch 10: val_loss did not improve from 0.71301\n",
      "822/822 [==============================] - 12s 15ms/step - loss: 0.7233 - accuracy: 0.5469 - recall_1: 0.6139 - val_loss: 0.7246 - val_accuracy: 0.5163 - val_recall_1: 0.6637\n",
      "Epoch 11/300\n",
      "819/822 [============================>.] - ETA: 0s - loss: 0.7101 - accuracy: 0.5409 - recall_1: 0.6335\n",
      "Epoch 11: val_loss improved from 0.71301 to 0.69648, saving model to /Users/xiaozhangyu/desktop/best_model_hybrid_lstm.h5\n",
      "822/822 [==============================] - 12s 15ms/step - loss: 0.7099 - accuracy: 0.5407 - recall_1: 0.6333 - val_loss: 0.6965 - val_accuracy: 0.5654 - val_recall_1: 0.5822\n",
      "Epoch 12/300\n",
      "820/822 [============================>.] - ETA: 0s - loss: 0.7001 - accuracy: 0.5447 - recall_1: 0.6198\n",
      "Epoch 12: val_loss improved from 0.69648 to 0.68534, saving model to /Users/xiaozhangyu/desktop/best_model_hybrid_lstm.h5\n",
      "822/822 [==============================] - 12s 15ms/step - loss: 0.7002 - accuracy: 0.5448 - recall_1: 0.6196 - val_loss: 0.6853 - val_accuracy: 0.5771 - val_recall_1: 0.5651\n",
      "Epoch 13/300\n",
      "822/822 [==============================] - ETA: 0s - loss: 0.6939 - accuracy: 0.5376 - recall_1: 0.6202\n",
      "Epoch 13: val_loss did not improve from 0.68534\n",
      "822/822 [==============================] - 12s 15ms/step - loss: 0.6939 - accuracy: 0.5376 - recall_1: 0.6202 - val_loss: 0.6941 - val_accuracy: 0.5327 - val_recall_1: 0.6368\n",
      "Epoch 14/300\n",
      "822/822 [==============================] - ETA: 0s - loss: 0.6888 - accuracy: 0.5457 - recall_1: 0.6224\n",
      "Epoch 14: val_loss did not improve from 0.68534\n",
      "822/822 [==============================] - 12s 15ms/step - loss: 0.6888 - accuracy: 0.5457 - recall_1: 0.6224 - val_loss: 0.6916 - val_accuracy: 0.5297 - val_recall_1: 0.6433\n",
      "Epoch 15/300\n",
      "819/822 [============================>.] - ETA: 0s - loss: 0.6868 - accuracy: 0.5381 - recall_1: 0.6208\n",
      "Epoch 15: val_loss improved from 0.68534 to 0.68441, saving model to /Users/xiaozhangyu/desktop/best_model_hybrid_lstm.h5\n",
      "822/822 [==============================] - 12s 15ms/step - loss: 0.6868 - accuracy: 0.5382 - recall_1: 0.6204 - val_loss: 0.6844 - val_accuracy: 0.5444 - val_recall_1: 0.6132\n",
      "Epoch 16/300\n",
      "820/822 [============================>.] - ETA: 0s - loss: 0.6857 - accuracy: 0.5403 - recall_1: 0.6101\n",
      "Epoch 16: val_loss did not improve from 0.68441\n",
      "822/822 [==============================] - 12s 15ms/step - loss: 0.6857 - accuracy: 0.5403 - recall_1: 0.6097 - val_loss: 0.6879 - val_accuracy: 0.5312 - val_recall_1: 0.6384\n",
      "Epoch 17/300\n",
      "821/822 [============================>.] - ETA: 0s - loss: 0.6847 - accuracy: 0.5303 - recall_1: 0.6233\n",
      "Epoch 17: val_loss improved from 0.68441 to 0.66417, saving model to /Users/xiaozhangyu/desktop/best_model_hybrid_lstm.h5\n",
      "822/822 [==============================] - 12s 15ms/step - loss: 0.6846 - accuracy: 0.5303 - recall_1: 0.6228 - val_loss: 0.6642 - val_accuracy: 0.5940 - val_recall_1: 0.5163\n",
      "Epoch 18/300\n",
      "821/822 [============================>.] - ETA: 0s - loss: 0.6840 - accuracy: 0.5473 - recall_1: 0.6065\n",
      "Epoch 18: val_loss did not improve from 0.66417\n",
      "822/822 [==============================] - 12s 15ms/step - loss: 0.6839 - accuracy: 0.5472 - recall_1: 0.6067 - val_loss: 0.6997 - val_accuracy: 0.4941 - val_recall_1: 0.6865\n",
      "Epoch 19/300\n",
      "819/822 [============================>.] - ETA: 0s - loss: 0.6832 - accuracy: 0.5395 - recall_1: 0.6158\n",
      "Epoch 19: val_loss did not improve from 0.66417\n",
      "822/822 [==============================] - 12s 15ms/step - loss: 0.6831 - accuracy: 0.5394 - recall_1: 0.6163 - val_loss: 0.6843 - val_accuracy: 0.5380 - val_recall_1: 0.6197\n",
      "Epoch 20/300\n",
      "822/822 [==============================] - ETA: 0s - loss: 0.6829 - accuracy: 0.5433 - recall_1: 0.6206\n",
      "Epoch 20: val_loss did not improve from 0.66417\n",
      "822/822 [==============================] - 12s 15ms/step - loss: 0.6829 - accuracy: 0.5433 - recall_1: 0.6206 - val_loss: 0.6753 - val_accuracy: 0.5648 - val_recall_1: 0.5814\n",
      "Epoch 21/300\n",
      "821/822 [============================>.] - ETA: 0s - loss: 0.6821 - accuracy: 0.5458 - recall_1: 0.6130\n",
      "Epoch 21: val_loss did not improve from 0.66417\n",
      "822/822 [==============================] - 12s 15ms/step - loss: 0.6820 - accuracy: 0.5458 - recall_1: 0.6131 - val_loss: 0.6742 - val_accuracy: 0.5652 - val_recall_1: 0.5782\n",
      "Epoch 22/300\n",
      "822/822 [==============================] - ETA: 0s - loss: 0.6825 - accuracy: 0.5465 - recall_1: 0.6097\n",
      "Epoch 22: val_loss did not improve from 0.66417\n",
      "822/822 [==============================] - 13s 16ms/step - loss: 0.6825 - accuracy: 0.5465 - recall_1: 0.6097 - val_loss: 0.6751 - val_accuracy: 0.5637 - val_recall_1: 0.5782\n",
      "Epoch 23/300\n",
      "821/822 [============================>.] - ETA: 0s - loss: 0.6829 - accuracy: 0.5437 - recall_1: 0.6194\n",
      "Epoch 23: val_loss did not improve from 0.66417\n",
      "822/822 [==============================] - 13s 15ms/step - loss: 0.6830 - accuracy: 0.5436 - recall_1: 0.6192 - val_loss: 0.6833 - val_accuracy: 0.5344 - val_recall_1: 0.6262\n"
     ]
    },
    {
     "name": "stdout",
     "output_type": "stream",
     "text": [
      "Epoch 24/300\n",
      "820/822 [============================>.] - ETA: 0s - loss: 0.6825 - accuracy: 0.5412 - recall_1: 0.6075\n",
      "Epoch 24: val_loss did not improve from 0.66417\n",
      "822/822 [==============================] - 12s 15ms/step - loss: 0.6825 - accuracy: 0.5409 - recall_1: 0.6075 - val_loss: 0.6907 - val_accuracy: 0.5158 - val_recall_1: 0.6621\n",
      "Epoch 25/300\n",
      "819/822 [============================>.] - ETA: 0s - loss: 0.6823 - accuracy: 0.5394 - recall_1: 0.6167\n",
      "Epoch 25: val_loss did not improve from 0.66417\n",
      "822/822 [==============================] - 12s 15ms/step - loss: 0.6820 - accuracy: 0.5393 - recall_1: 0.6167 - val_loss: 0.6941 - val_accuracy: 0.5078 - val_recall_1: 0.6678\n",
      "Epoch 26/300\n",
      "819/822 [============================>.] - ETA: 0s - loss: 0.6822 - accuracy: 0.5420 - recall_1: 0.6106\n",
      "Epoch 26: val_loss did not improve from 0.66417\n",
      "822/822 [==============================] - 12s 15ms/step - loss: 0.6821 - accuracy: 0.5420 - recall_1: 0.6103 - val_loss: 0.6853 - val_accuracy: 0.5328 - val_recall_1: 0.6327\n",
      "Epoch 27/300\n",
      "821/822 [============================>.] - ETA: 0s - loss: 0.6820 - accuracy: 0.5459 - recall_1: 0.6011\n",
      "Epoch 27: val_loss did not improve from 0.66417\n",
      "822/822 [==============================] - 12s 15ms/step - loss: 0.6819 - accuracy: 0.5458 - recall_1: 0.6014 - val_loss: 0.6988 - val_accuracy: 0.4922 - val_recall_1: 0.6906\n",
      "Epoch 28/300\n",
      "821/822 [============================>.] - ETA: 0s - loss: 0.6811 - accuracy: 0.5438 - recall_1: 0.6207\n",
      "Epoch 28: val_loss did not improve from 0.66417\n",
      "822/822 [==============================] - 12s 15ms/step - loss: 0.6812 - accuracy: 0.5438 - recall_1: 0.6208 - val_loss: 0.6895 - val_accuracy: 0.5196 - val_recall_1: 0.6572\n",
      "Epoch 29/300\n",
      "822/822 [==============================] - ETA: 0s - loss: 0.6816 - accuracy: 0.5483 - recall_1: 0.6079\n",
      "Epoch 29: val_loss did not improve from 0.66417\n",
      "822/822 [==============================] - 12s 15ms/step - loss: 0.6816 - accuracy: 0.5483 - recall_1: 0.6079 - val_loss: 0.7029 - val_accuracy: 0.4842 - val_recall_1: 0.7109\n",
      "Epoch 30/300\n",
      "820/822 [============================>.] - ETA: 0s - loss: 0.6801 - accuracy: 0.5479 - recall_1: 0.6159\n",
      "Epoch 30: val_loss did not improve from 0.66417\n",
      "822/822 [==============================] - 12s 15ms/step - loss: 0.6802 - accuracy: 0.5479 - recall_1: 0.6155 - val_loss: 0.6885 - val_accuracy: 0.5216 - val_recall_1: 0.6531\n",
      "Epoch 31/300\n",
      "819/822 [============================>.] - ETA: 0s - loss: 0.6825 - accuracy: 0.5371 - recall_1: 0.6233\n",
      "Epoch 31: val_loss improved from 0.66417 to 0.66276, saving model to /Users/xiaozhangyu/desktop/best_model_hybrid_lstm.h5\n",
      "822/822 [==============================] - 12s 15ms/step - loss: 0.6823 - accuracy: 0.5373 - recall_1: 0.6230 - val_loss: 0.6628 - val_accuracy: 0.5972 - val_recall_1: 0.5383\n",
      "Epoch 32/300\n",
      "821/822 [============================>.] - ETA: 0s - loss: 0.6820 - accuracy: 0.5487 - recall_1: 0.5962\n",
      "Epoch 32: val_loss did not improve from 0.66276\n",
      "822/822 [==============================] - 12s 15ms/step - loss: 0.6819 - accuracy: 0.5487 - recall_1: 0.5962 - val_loss: 0.6896 - val_accuracy: 0.5199 - val_recall_1: 0.6580\n",
      "Epoch 33/300\n",
      "819/822 [============================>.] - ETA: 0s - loss: 0.6817 - accuracy: 0.5400 - recall_1: 0.6083\n",
      "Epoch 33: val_loss did not improve from 0.66276\n",
      "822/822 [==============================] - 12s 15ms/step - loss: 0.6818 - accuracy: 0.5400 - recall_1: 0.6073 - val_loss: 0.6676 - val_accuracy: 0.5906 - val_recall_1: 0.5521\n",
      "Epoch 34/300\n",
      "822/822 [==============================] - ETA: 0s - loss: 0.6800 - accuracy: 0.5589 - recall_1: 0.6022\n",
      "Epoch 34: val_loss did not improve from 0.66276\n",
      "822/822 [==============================] - 12s 15ms/step - loss: 0.6800 - accuracy: 0.5589 - recall_1: 0.6022 - val_loss: 0.7058 - val_accuracy: 0.4757 - val_recall_1: 0.7142\n",
      "Epoch 35/300\n",
      "822/822 [==============================] - ETA: 0s - loss: 0.6802 - accuracy: 0.5453 - recall_1: 0.6171\n",
      "Epoch 35: val_loss did not improve from 0.66276\n",
      "822/822 [==============================] - 12s 15ms/step - loss: 0.6802 - accuracy: 0.5453 - recall_1: 0.6171 - val_loss: 0.6809 - val_accuracy: 0.5459 - val_recall_1: 0.6116\n",
      "Epoch 36/300\n",
      "819/822 [============================>.] - ETA: 0s - loss: 0.6796 - accuracy: 0.5473 - recall_1: 0.6096\n",
      "Epoch 36: val_loss did not improve from 0.66276\n",
      "822/822 [==============================] - 12s 15ms/step - loss: 0.6797 - accuracy: 0.5475 - recall_1: 0.6099 - val_loss: 0.6687 - val_accuracy: 0.5750 - val_recall_1: 0.5676\n",
      "Epoch 37/300\n",
      "821/822 [============================>.] - ETA: 0s - loss: 0.6795 - accuracy: 0.5486 - recall_1: 0.6104\n",
      "Epoch 37: val_loss did not improve from 0.66276\n",
      "822/822 [==============================] - 12s 15ms/step - loss: 0.6794 - accuracy: 0.5487 - recall_1: 0.6105 - val_loss: 0.6780 - val_accuracy: 0.5535 - val_recall_1: 0.6116\n",
      "Epoch 38/300\n",
      "822/822 [==============================] - ETA: 0s - loss: 0.6802 - accuracy: 0.5535 - recall_1: 0.6105\n",
      "Epoch 38: val_loss did not improve from 0.66276\n",
      "822/822 [==============================] - 13s 15ms/step - loss: 0.6802 - accuracy: 0.5535 - recall_1: 0.6105 - val_loss: 0.7006 - val_accuracy: 0.4866 - val_recall_1: 0.7077\n",
      "Epoch 39/300\n",
      "822/822 [==============================] - ETA: 0s - loss: 0.6794 - accuracy: 0.5457 - recall_1: 0.6206\n",
      "Epoch 39: val_loss did not improve from 0.66276\n",
      "822/822 [==============================] - 12s 15ms/step - loss: 0.6794 - accuracy: 0.5457 - recall_1: 0.6206 - val_loss: 0.6917 - val_accuracy: 0.5119 - val_recall_1: 0.6751\n",
      "Epoch 40/300\n",
      "819/822 [============================>.] - ETA: 0s - loss: 0.6807 - accuracy: 0.5406 - recall_1: 0.6141\n",
      "Epoch 40: val_loss did not improve from 0.66276\n",
      "822/822 [==============================] - 12s 15ms/step - loss: 0.6809 - accuracy: 0.5407 - recall_1: 0.6137 - val_loss: 0.6686 - val_accuracy: 0.5811 - val_recall_1: 0.5562\n",
      "Epoch 41/300\n",
      "822/822 [==============================] - ETA: 0s - loss: 0.6803 - accuracy: 0.5501 - recall_1: 0.6024\n",
      "Epoch 41: val_loss did not improve from 0.66276\n",
      "822/822 [==============================] - 12s 15ms/step - loss: 0.6803 - accuracy: 0.5501 - recall_1: 0.6024 - val_loss: 0.6897 - val_accuracy: 0.5198 - val_recall_1: 0.6572\n",
      "Epoch 42/300\n",
      "819/822 [============================>.] - ETA: 0s - loss: 0.6801 - accuracy: 0.5493 - recall_1: 0.6086\n",
      "Epoch 42: val_loss did not improve from 0.66276\n",
      "822/822 [==============================] - 12s 15ms/step - loss: 0.6802 - accuracy: 0.5495 - recall_1: 0.6079 - val_loss: 0.6706 - val_accuracy: 0.5763 - val_recall_1: 0.5619\n",
      "Epoch 43/300\n",
      "822/822 [==============================] - ETA: 0s - loss: 0.6809 - accuracy: 0.5511 - recall_1: 0.6085\n",
      "Epoch 43: val_loss did not improve from 0.66276\n",
      "822/822 [==============================] - 12s 15ms/step - loss: 0.6809 - accuracy: 0.5511 - recall_1: 0.6085 - val_loss: 0.6857 - val_accuracy: 0.5336 - val_recall_1: 0.6441\n",
      "Epoch 44/300\n",
      "820/822 [============================>.] - ETA: 0s - loss: 0.6793 - accuracy: 0.5491 - recall_1: 0.6171\n",
      "Epoch 44: val_loss did not improve from 0.66276\n",
      "822/822 [==============================] - 13s 16ms/step - loss: 0.6792 - accuracy: 0.5492 - recall_1: 0.6167 - val_loss: 0.6687 - val_accuracy: 0.5776 - val_recall_1: 0.5684\n",
      "Epoch 45/300\n",
      "819/822 [============================>.] - ETA: 0s - loss: 0.6799 - accuracy: 0.5498 - recall_1: 0.6140\n",
      "Epoch 45: val_loss did not improve from 0.66276\n",
      "822/822 [==============================] - 13s 15ms/step - loss: 0.6798 - accuracy: 0.5500 - recall_1: 0.6141 - val_loss: 0.6763 - val_accuracy: 0.5543 - val_recall_1: 0.6059\n",
      "Epoch 46/300\n",
      "822/822 [==============================] - ETA: 0s - loss: 0.6809 - accuracy: 0.5455 - recall_1: 0.6081\n",
      "Epoch 46: val_loss did not improve from 0.66276\n",
      "822/822 [==============================] - 13s 16ms/step - loss: 0.6809 - accuracy: 0.5455 - recall_1: 0.6081 - val_loss: 0.6924 - val_accuracy: 0.5099 - val_recall_1: 0.6775\n",
      "Epoch 47/300\n",
      "820/822 [============================>.] - ETA: 0s - loss: 0.6799 - accuracy: 0.5520 - recall_1: 0.6023\n",
      "Epoch 47: val_loss did not improve from 0.66276\n",
      "822/822 [==============================] - 13s 15ms/step - loss: 0.6799 - accuracy: 0.5518 - recall_1: 0.6026 - val_loss: 0.6943 - val_accuracy: 0.5046 - val_recall_1: 0.6751\n"
     ]
    },
    {
     "name": "stdout",
     "output_type": "stream",
     "text": [
      "Epoch 48/300\n",
      "822/822 [==============================] - ETA: 0s - loss: 0.6794 - accuracy: 0.5445 - recall_1: 0.6173\n",
      "Epoch 48: val_loss did not improve from 0.66276\n",
      "822/822 [==============================] - 12s 15ms/step - loss: 0.6794 - accuracy: 0.5445 - recall_1: 0.6173 - val_loss: 0.6636 - val_accuracy: 0.5890 - val_recall_1: 0.5456\n",
      "Epoch 49/300\n",
      "820/822 [============================>.] - ETA: 0s - loss: 0.6811 - accuracy: 0.5503 - recall_1: 0.6004\n",
      "Epoch 49: val_loss did not improve from 0.66276\n",
      "822/822 [==============================] - 12s 15ms/step - loss: 0.6809 - accuracy: 0.5502 - recall_1: 0.6004 - val_loss: 0.6890 - val_accuracy: 0.5175 - val_recall_1: 0.6686\n",
      "Epoch 50/300\n",
      "819/822 [============================>.] - ETA: 0s - loss: 0.6796 - accuracy: 0.5404 - recall_1: 0.6200\n",
      "Epoch 50: val_loss did not improve from 0.66276\n",
      "822/822 [==============================] - 12s 14ms/step - loss: 0.6798 - accuracy: 0.5406 - recall_1: 0.6198 - val_loss: 0.6682 - val_accuracy: 0.5738 - val_recall_1: 0.5635\n",
      "Epoch 51/300\n",
      "819/822 [============================>.] - ETA: 0s - loss: 0.6805 - accuracy: 0.5447 - recall_1: 0.6110\n",
      "Epoch 51: val_loss did not improve from 0.66276\n",
      "822/822 [==============================] - 12s 15ms/step - loss: 0.6802 - accuracy: 0.5446 - recall_1: 0.6107 - val_loss: 0.6724 - val_accuracy: 0.5642 - val_recall_1: 0.5888\n"
     ]
    },
    {
     "data": {
      "text/plain": [
       "<keras.src.callbacks.History at 0x16f156f90>"
      ]
     },
     "execution_count": 50,
     "metadata": {},
     "output_type": "execute_result"
    }
   ],
   "source": [
    "from keras.models import Sequential\n",
    "from keras.layers import LSTM, Dense, Dropout\n",
    "from keras import regularizers, optimizers\n",
    "from keras.callbacks import EarlyStopping, ModelCheckpoint\n",
    "from keras.metrics import Recall\n",
    "from keras.optimizers import Adam\n",
    "\n",
    "# Define the LSTM model\n",
    "model = Sequential()\n",
    "\n",
    "model.add(LSTM(32, input_shape=(timesteps, input_dim),\n",
    "               kernel_regularizer=regularizers.l2(0.01),\n",
    "               recurrent_regularizer=regularizers.l2(0.01),\n",
    "               bias_regularizer=regularizers.l2(0.01),\n",
    "               dropout=0.4, recurrent_dropout=0.4))\n",
    "model.add(Dense(1, activation='sigmoid'))\n",
    "\n",
    "opt = Adam(learning_rate=0.0001)\n",
    "\n",
    "# Compile the model\n",
    "model.compile(loss='binary_crossentropy', optimizer=opt, metrics=['accuracy', Recall()])\n",
    "\n",
    "# Define early stopping\n",
    "early_stopping = EarlyStopping(monitor='val_loss', patience=20)\n",
    "\n",
    "checkpoint = ModelCheckpoint('model/best_model_hybrid_lstm.h5', monitor='val_loss', verbose=1, save_best_only=True, mode='min')\n",
    "\n",
    "# Train the model\n",
    "model.fit(X_train, y_train, epochs=300, batch_size=32, validation_split=0.2, callbacks=[early_stopping, checkpoint], class_weight=class_weights)"
   ]
  },
  {
   "cell_type": "code",
   "execution_count": 51,
   "id": "f7cb3885",
   "metadata": {
    "scrolled": false
   },
   "outputs": [
    {
     "name": "stdout",
     "output_type": "stream",
     "text": [
      "257/257 [==============================] - 1s 4ms/step\n",
      "      Prediction  Actual\n",
      "0       0.470546       0\n",
      "1       0.548851       1\n",
      "2       0.310637       0\n",
      "3       0.559259       0\n",
      "4       0.547991       0\n",
      "...          ...     ...\n",
      "8215    0.483170       0\n",
      "8216    0.415833       0\n",
      "8217    0.538961       0\n",
      "8218    0.477379       1\n",
      "8219    0.416731       0\n",
      "\n",
      "[8220 rows x 2 columns]\n"
     ]
    }
   ],
   "source": [
    "# Make predictions using the model\n",
    "best_model = load_model('model/best_model_hybrid_lstm.h5')\n",
    "\n",
    "predictions = best_model.predict(X_test)\n",
    "\n",
    "# Compare the predictions with the actual values\n",
    "comparison = pd.DataFrame({'Prediction': predictions.flatten(), 'Actual': y_test})\n",
    "\n",
    "# Print the comparison\n",
    "print(comparison)\n",
    "predictions_labels = [1 if p > 0.5 else 0 for p in predictions.flatten()]"
   ]
  },
  {
   "cell_type": "code",
   "execution_count": 52,
   "id": "3dbb7924",
   "metadata": {
    "scrolled": true
   },
   "outputs": [
    {
     "data": {
      "image/png": "[encoded data removed]",
      "text/plain": [
       "<Figure size 1000x700 with 2 Axes>"
      ]
     },
     "metadata": {},
     "output_type": "display_data"
    }
   ],
   "source": [
    "from sklearn.metrics import confusion_matrix, classification_report\n",
    "import seaborn as sns\n",
    "\n",
    "cm = confusion_matrix(y_test, predictions_labels)\n",
    "plt.figure(figsize=(10, 7))\n",
    "sns.heatmap(cm, annot=True, fmt='d')\n",
    "plt.xlabel('Predicted')\n",
    "plt.ylabel('Truth')\n",
    "plt.show()"
   ]
  },
  {
   "cell_type": "code",
   "execution_count": 53,
   "id": "043c253f",
   "metadata": {
    "scrolled": true
   },
   "outputs": [
    {
     "name": "stdout",
     "output_type": "stream",
     "text": [
      "              precision    recall  f1-score   support\n",
      "\n",
      "           0       0.85      0.62      0.72      6689\n",
      "           1       0.24      0.53      0.33      1531\n",
      "\n",
      "    accuracy                           0.60      8220\n",
      "   macro avg       0.55      0.57      0.52      8220\n",
      "weighted avg       0.74      0.60      0.64      8220\n",
      "\n"
     ]
    }
   ],
   "source": [
    "report = classification_report(y_test, predictions_labels, output_dict=True)\n",
    "print(classification_report(y_test, predictions_labels))\n",
    "df = pd.DataFrame(report).transpose()\n",
    "df.to_csv('result/hybrid_lstm.csv')"
   ]
  }
 ],
 "metadata": {
  "kernelspec": {
   "display_name": "Python3.6",
   "language": "python",
   "name": "python3.6"
  },
  "language_info": {
   "codemirror_mode": {
    "name": "ipython",
    "version": 3
   },
   "file_extension": ".py",
   "mimetype": "text/x-python",
   "name": "python",
   "nbconvert_exporter": "python",
   "pygments_lexer": "ipython3",
   "version": "3.11.4"
  }
 },
 "nbformat": 4,
 "nbformat_minor": 5
}
